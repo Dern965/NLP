{
 "cells": [
  {
   "cell_type": "markdown",
   "metadata": {},
   "source": [
    "# Practica 6\n",
    "***\n",
    "* Gónzalez Chacón Monica\n",
    "* López Salazar Esmeralda Leticia\n",
    "* Rodriguez Nuñez Diego Eduardo"
   ]
  },
  {
   "cell_type": "code",
   "execution_count": 18,
   "metadata": {},
   "outputs": [],
   "source": [
    "import pandas as pd\n",
    "import spacy\n",
    "import numpy as np\n",
    "from sklearn.model_selection import train_test_split\n",
    "from sklearn.feature_extraction.text import CountVectorizer, TfidfVectorizer\n",
    "from sklearn.decomposition import TruncatedSVD\n",
    "from sklearn.model_selection import KFold\n",
    "from sklearn.neural_network import MLPClassifier\n",
    "from sklearn.metrics import classification_report, confusion_matrix, f1_score\n"
   ]
  },
  {
   "cell_type": "code",
   "execution_count": 19,
   "metadata": {},
   "outputs": [
    {
     "data": {
      "text/html": [
       "<div>\n",
       "<style scoped>\n",
       "    .dataframe tbody tr th:only-of-type {\n",
       "        vertical-align: middle;\n",
       "    }\n",
       "\n",
       "    .dataframe tbody tr th {\n",
       "        vertical-align: top;\n",
       "    }\n",
       "\n",
       "    .dataframe thead th {\n",
       "        text-align: right;\n",
       "    }\n",
       "</style>\n",
       "<table border=\"1\" class=\"dataframe\">\n",
       "  <thead>\n",
       "    <tr style=\"text-align: right;\">\n",
       "      <th></th>\n",
       "      <th>Title</th>\n",
       "      <th>Opinion</th>\n",
       "      <th>Polarity</th>\n",
       "      <th>Attraction</th>\n",
       "    </tr>\n",
       "  </thead>\n",
       "  <tbody>\n",
       "    <tr>\n",
       "      <th>0</th>\n",
       "      <td>Pésimo lugar</td>\n",
       "      <td>Piensen dos veces antes de ir a este hotel, te...</td>\n",
       "      <td>1</td>\n",
       "      <td>Hotel</td>\n",
       "    </tr>\n",
       "    <tr>\n",
       "      <th>1</th>\n",
       "      <td>No vayas a lugar de Eddie</td>\n",
       "      <td>Cuatro de nosotros fuimos recientemente a Eddi...</td>\n",
       "      <td>1</td>\n",
       "      <td>Restaurant</td>\n",
       "    </tr>\n",
       "    <tr>\n",
       "      <th>2</th>\n",
       "      <td>Mala relación calidad-precio</td>\n",
       "      <td>seguiré corta y simple: limpieza\\n- bad. Tengo...</td>\n",
       "      <td>1</td>\n",
       "      <td>Hotel</td>\n",
       "    </tr>\n",
       "    <tr>\n",
       "      <th>3</th>\n",
       "      <td>Minusválido? ¡No te alojes aquí!</td>\n",
       "      <td>Al reservar un hotel con multipropiedad Mayan ...</td>\n",
       "      <td>1</td>\n",
       "      <td>Hotel</td>\n",
       "    </tr>\n",
       "    <tr>\n",
       "      <th>4</th>\n",
       "      <td>Es una porqueria no pierdan su tiempo</td>\n",
       "      <td>No pierdan su tiempo ni dinero, venimos porque...</td>\n",
       "      <td>1</td>\n",
       "      <td>Hotel</td>\n",
       "    </tr>\n",
       "    <tr>\n",
       "      <th>...</th>\n",
       "      <td>...</td>\n",
       "      <td>...</td>\n",
       "      <td>...</td>\n",
       "      <td>...</td>\n",
       "    </tr>\n",
       "    <tr>\n",
       "      <th>30207</th>\n",
       "      <td>Verdadera joya arquitectónica</td>\n",
       "      <td>Es una construcción majestuosa, creo que de la...</td>\n",
       "      <td>5</td>\n",
       "      <td>Attractive</td>\n",
       "    </tr>\n",
       "    <tr>\n",
       "      <th>30208</th>\n",
       "      <td>Romántico</td>\n",
       "      <td>Muy al estilo de Romeo y Julieta es este sitio...</td>\n",
       "      <td>5</td>\n",
       "      <td>Attractive</td>\n",
       "    </tr>\n",
       "    <tr>\n",
       "      <th>30209</th>\n",
       "      <td>Parece un castillo</td>\n",
       "      <td>Ideal para subir las escalinatas y divisar su ...</td>\n",
       "      <td>5</td>\n",
       "      <td>Attractive</td>\n",
       "    </tr>\n",
       "    <tr>\n",
       "      <th>30210</th>\n",
       "      <td>Imperdible</td>\n",
       "      <td>Es imperdible, de ahí puedes ver muy bien la c...</td>\n",
       "      <td>5</td>\n",
       "      <td>Attractive</td>\n",
       "    </tr>\n",
       "    <tr>\n",
       "      <th>30211</th>\n",
       "      <td>Muy bonita vista</td>\n",
       "      <td>No te puedes ir de Guanajuato sin visitarlo......</td>\n",
       "      <td>5</td>\n",
       "      <td>Attractive</td>\n",
       "    </tr>\n",
       "  </tbody>\n",
       "</table>\n",
       "<p>30212 rows × 4 columns</p>\n",
       "</div>"
      ],
      "text/plain": [
       "                                       Title  \\\n",
       "0                               Pésimo lugar   \n",
       "1                  No vayas a lugar de Eddie   \n",
       "2               Mala relación calidad-precio   \n",
       "3           Minusválido? ¡No te alojes aquí!   \n",
       "4      Es una porqueria no pierdan su tiempo   \n",
       "...                                      ...   \n",
       "30207          Verdadera joya arquitectónica   \n",
       "30208                              Romántico   \n",
       "30209                     Parece un castillo   \n",
       "30210                             Imperdible   \n",
       "30211                       Muy bonita vista   \n",
       "\n",
       "                                                 Opinion  Polarity  Attraction  \n",
       "0      Piensen dos veces antes de ir a este hotel, te...         1       Hotel  \n",
       "1      Cuatro de nosotros fuimos recientemente a Eddi...         1  Restaurant  \n",
       "2      seguiré corta y simple: limpieza\\n- bad. Tengo...         1       Hotel  \n",
       "3      Al reservar un hotel con multipropiedad Mayan ...         1       Hotel  \n",
       "4      No pierdan su tiempo ni dinero, venimos porque...         1       Hotel  \n",
       "...                                                  ...       ...         ...  \n",
       "30207  Es una construcción majestuosa, creo que de la...         5  Attractive  \n",
       "30208  Muy al estilo de Romeo y Julieta es este sitio...         5  Attractive  \n",
       "30209  Ideal para subir las escalinatas y divisar su ...         5  Attractive  \n",
       "30210  Es imperdible, de ahí puedes ver muy bien la c...         5  Attractive  \n",
       "30211  No te puedes ir de Guanajuato sin visitarlo......         5  Attractive  \n",
       "\n",
       "[30212 rows x 4 columns]"
      ]
     },
     "execution_count": 19,
     "metadata": {},
     "output_type": "execute_result"
    }
   ],
   "source": [
    "datos = pd.read_excel(\"Rest_Mex_2022.xlsx\")\n",
    "datos"
   ]
  },
  {
   "cell_type": "code",
   "execution_count": 20,
   "metadata": {},
   "outputs": [],
   "source": [
    "datos.fillna('', inplace=True)"
   ]
  },
  {
   "cell_type": "code",
   "execution_count": 21,
   "metadata": {},
   "outputs": [],
   "source": [
    "X = datos[\"Title\"].astype(str) + \" \" + datos[\"Opinion\"].astype(str)"
   ]
  },
  {
   "cell_type": "code",
   "execution_count": 22,
   "metadata": {},
   "outputs": [],
   "source": [
    "y = datos['Polarity'].values"
   ]
  },
  {
   "cell_type": "code",
   "execution_count": 23,
   "metadata": {},
   "outputs": [],
   "source": [
    "nlp = spacy.load(\"es_core_news_sm\")"
   ]
  },
  {
   "cell_type": "markdown",
   "metadata": {},
   "source": [
    "### Perceptron\n",
    "***"
   ]
  },
  {
   "cell_type": "markdown",
   "metadata": {},
   "source": [
    "#### Normalización de Texto"
   ]
  },
  {
   "cell_type": "code",
   "execution_count": 24,
   "metadata": {},
   "outputs": [],
   "source": [
    "def Normalizar_dern(texto,combo):\n",
    "    texto = texto.lower() if 'text_cleaning' in combo else texto\n",
    "\n",
    "    doc = nlp(texto)\n",
    "    tokens = []\n",
    "    for token in doc:\n",
    "        if not token.is_punct and not token.is_space:\n",
    "            if 'stop_words' in combo and token.is_stop:\n",
    "                continue\n",
    "            tokens.append(token.lemma_ if 'lemmatization' in combo else token.text)\n",
    "    return ' '.join(tokens) if 'tokenization' in combo else ' '.join([texto])"
   ]
  },
  {
   "cell_type": "code",
   "execution_count": 25,
   "metadata": {},
   "outputs": [
    {
     "name": "stdout",
     "output_type": "stream",
     "text": [
      "Procesando: ['text_cleaning', 'stop_words']\n"
     ]
    }
   ],
   "source": [
    "# procesos: tokenization, lemmatization, stop_words, text_cleaning\n",
    "combo = [['text_cleaning','stop_words']]\n",
    "resultados = {}\n",
    "for c in combo:\n",
    "    print(f'Procesando: {c}')\n",
    "    X_preprocessed = X.apply(lambda x: Normalizar_dern(x,c))\n",
    "    resultados[str(c)] = X_preprocessed"
   ]
  },
  {
   "cell_type": "markdown",
   "metadata": {},
   "source": [
    "#### Representación de texto"
   ]
  },
  {
   "cell_type": "code",
   "execution_count": 26,
   "metadata": {},
   "outputs": [
    {
     "name": "stdout",
     "output_type": "stream",
     "text": [
      "Procesando: ['text_cleaning', 'stop_words']\n",
      "Combinación: ['text_cleaning', 'stop_words'] + TF-IDF\n",
      "Preview:   (0, 33337)\t0.09978576168494702\n",
      "  (0, 22317)\t0.06827191390358496\n",
      "  (0, 23916)\t0.05591830572067304\n",
      "  (0, 16708)\t0.15624226797000865\n",
      "  (0, 24916)\t0.10875820491737558\n",
      "  (0, 36213)\t0.08052543923570236\n",
      "  (0, 36344)\t0.08500061704350645\n",
      "  (0, 31495)\t0.11572810077144698\n",
      "  (0, 43808)\t0.10548372090055519\n",
      "  (0, 9458)\t0.12991076915432817\n",
      "  (0, 27009)\t0.14391119154302656\n",
      "  (0, 49045)\t0.09200715562303259\n",
      "  (0, 49917)\t0.1272404798022135\n",
      "  (0, 27376)\t0.1073045577827018\n",
      "  (0, 49105)\t0.08105378360309609\n",
      "  (0, 36161)\t0.04050080117850944\n",
      "  (0, 30968)\t0.04603306821194006\n",
      "  (0, 37016)\t0.06087908183210164\n",
      "  (0, 43474)\t0.06154700666377157\n",
      "  (0, 38637)\t0.10948868315173031\n",
      "  (0, 23337)\t0.06368050570674673\n",
      "  (0, 34855)\t0.08758126344806912\n",
      "  (0, 30770)\t0.15965376527839975\n",
      "  (0, 19029)\t0.056594748898312036\n",
      "  (0, 19863)\t0.07226911176957111\n",
      "  :\t:\n",
      "  (4, 2803)\t0.08061952375201326\n",
      "  (4, 4677)\t0.06009899188854153\n",
      "  (4, 45964)\t0.058912416432521986\n",
      "  (4, 43080)\t0.12033337920102788\n",
      "  (4, 46740)\t0.17297099983014805\n",
      "  (4, 31629)\t0.14110347315710697\n",
      "  (4, 587)\t0.10248471101818932\n",
      "  (4, 45069)\t0.1330122488392067\n",
      "  (4, 22317)\t0.06735043156239516\n",
      "  (4, 36161)\t0.0399541521839794\n",
      "  (4, 37016)\t0.06005738231251068\n",
      "  (4, 23337)\t0.06282099469948724\n",
      "  (4, 19029)\t0.11166175208884987\n",
      "  (4, 17481)\t0.11179145087888001\n",
      "  (4, 33249)\t0.20039002827407248\n",
      "  (4, 28135)\t0.04348097358678177\n",
      "  (4, 17992)\t0.07222978334833974\n",
      "  (4, 33136)\t0.1630838001531652\n",
      "  (4, 48205)\t0.06220549870538383\n",
      "  (4, 23339)\t0.07287443690977019\n",
      "  (4, 38916)\t0.1804076503835869\n",
      "  (4, 37246)\t0.03488241509896907\n",
      "  (4, 27077)\t0.11647793144246263\n",
      "  (4, 14011)\t0.04129458242446837\n",
      "  (4, 4038)\t0.06942783883190314\n",
      "Combinación: ['text_cleaning', 'stop_words'] + TF-IDF + SVD\n",
      "Preview: [[ 2.91565662e-01 -3.69218029e-02  6.56210042e-02 -2.77313772e-02\n",
      "  -1.57189381e-02 -2.13961190e-03 -2.80839270e-02  1.17651160e-03\n",
      "  -2.03504751e-02  2.72430058e-02 -1.36618791e-02  3.15755666e-02\n",
      "  -2.92864980e-02 -6.03401601e-03  2.28219235e-02 -8.32390697e-03\n",
      "   4.25117748e-02 -2.30528833e-02  1.65099852e-02 -1.87608497e-02\n",
      "   4.94627920e-03  2.10092677e-02  1.63889790e-02 -8.73536875e-03\n",
      "   2.56623688e-02  2.18600627e-02  9.33119967e-02  3.19245196e-02\n",
      "  -7.03874136e-02 -9.76512637e-03  9.66335455e-03  3.46523863e-03\n",
      "   1.74566861e-02  2.50735450e-02  3.22377968e-03  2.52314534e-02\n",
      "   5.84637739e-02  1.64123390e-02 -2.61018890e-02 -7.19928650e-02\n",
      "  -3.89551287e-02  1.35865095e-02  1.36105125e-02 -5.13430443e-03\n",
      "  -5.00011326e-02  5.10561446e-02  2.05333716e-02  7.68058900e-03\n",
      "   1.63641111e-02 -1.72488906e-02 -1.44596974e-02 -6.81564004e-03\n",
      "  -8.02780795e-02  7.22207238e-02  3.71818104e-03  2.06544895e-02\n",
      "  -1.28270860e-02  1.13090963e-02 -4.42933896e-02 -1.86982387e-03\n",
      "   1.53538323e-02 -2.48453835e-02 -3.28491878e-04 -1.14190035e-02\n",
      "   4.41088451e-03  2.17022896e-02 -1.46512355e-02  1.69192877e-02\n",
      "   1.41099961e-02  1.80555895e-02 -2.50234997e-02 -4.78820842e-03\n",
      "  -4.09931839e-03 -4.55053513e-02  2.09023471e-02  3.06308736e-03\n",
      "   2.36772846e-02  3.56744406e-02  2.32463015e-02  1.37956466e-02\n",
      "  -8.25081003e-05 -5.96850303e-02 -1.83525350e-02 -2.71830205e-02\n",
      "   2.87493238e-02  5.09063890e-03 -3.40034440e-02  1.08133533e-02\n",
      "  -2.29913762e-02 -1.60778350e-02  5.31047950e-02  1.25457257e-02\n",
      "   2.55480779e-02  2.39341821e-02  3.20527934e-02 -5.09459161e-02\n",
      "   2.46055985e-02  1.28070953e-02  1.22546994e-02  4.23873099e-02]\n",
      " [ 3.22575423e-01 -1.40308792e-01 -5.08460198e-02  4.96240497e-02\n",
      "  -4.74155635e-02 -1.43737753e-01  5.40239215e-02  1.12431933e-01\n",
      "  -6.36434995e-02 -6.04637744e-02  3.88918342e-02 -3.08453349e-02\n",
      "  -3.57842259e-02 -2.14669264e-02 -4.21930532e-02  8.21699507e-03\n",
      "  -1.03653939e-02 -2.45217377e-02 -6.54253188e-02 -5.61812810e-02\n",
      "   2.95532274e-02 -6.66719836e-02 -2.35940346e-02  1.16393341e-02\n",
      "   9.76481873e-02  1.13659117e-01  4.82180880e-03  3.50633001e-02\n",
      "  -1.33994934e-02  5.12300908e-02 -3.44729085e-02 -1.06322240e-02\n",
      "  -4.48017682e-02 -2.91163298e-02 -9.55245551e-03 -1.12895370e-02\n",
      "   3.67966030e-02 -1.16286797e-02 -2.88672974e-02  2.69954998e-03\n",
      "  -3.99065238e-02  4.83247533e-02 -4.26254538e-02  5.65752539e-02\n",
      "   1.84515194e-02 -4.20870714e-02  2.20691128e-02  5.05648483e-02\n",
      "   1.42373228e-02  9.73931551e-02 -4.62906955e-02 -9.43592549e-03\n",
      "   6.19869967e-03 -1.51667500e-02  1.60748640e-02 -6.54821776e-02\n",
      "   1.47238101e-02 -7.00118525e-03 -3.37909043e-03 -1.96645512e-02\n",
      "   1.67455763e-03 -3.92942957e-02  2.22902318e-03 -1.73784199e-02\n",
      "   5.82461541e-02  5.87653445e-05  7.57154007e-02  1.61013550e-02\n",
      "   5.78319486e-02 -4.71687310e-02 -1.93073521e-02  2.58046759e-02\n",
      "  -3.99824280e-02 -2.42607974e-02  5.46511023e-02  4.24925896e-02\n",
      "   5.47831706e-02  5.24289868e-02  6.48548974e-02 -3.33340930e-02\n",
      "   8.72029082e-02  2.44990130e-02 -2.45850587e-03  4.45744098e-02\n",
      "  -8.70485398e-02 -6.50460397e-02 -1.74931156e-02 -3.46824221e-02\n",
      "  -3.34875442e-02  3.50519437e-02 -2.78929541e-02  2.47382496e-02\n",
      "  -1.04190854e-02  1.19290507e-02 -7.68563067e-02 -6.32721750e-02\n",
      "   3.61450555e-02 -1.79345460e-03  8.65516609e-02 -1.97020066e-02]\n",
      " [ 1.56742969e-01 -3.69856515e-02  2.33322309e-02 -9.73327076e-03\n",
      "  -1.92547035e-02 -1.82701114e-02 -3.77346553e-02  1.35410266e-02\n",
      "   1.46210305e-02 -8.89625318e-03 -2.60628052e-03  3.63166584e-02\n",
      "  -4.23490134e-02 -9.12131527e-03  4.64679884e-02  2.58654114e-02\n",
      "   1.36408498e-02  8.80145430e-03  8.11260523e-03 -1.51966873e-02\n",
      "  -1.42538722e-02  1.25475994e-02 -3.66239173e-02  4.15732846e-02\n",
      "   9.13654488e-02 -1.58788312e-02 -1.57718044e-02  3.64398675e-02\n",
      "   4.93624584e-02  5.86572403e-02 -8.47387345e-03  4.93475747e-03\n",
      "   4.28015317e-02  1.00118158e-02 -1.89800179e-02  3.74490260e-03\n",
      "  -1.24129380e-02  1.28418168e-02 -5.54438136e-02 -4.66214062e-03\n",
      "  -1.35635658e-02  2.27476962e-02  5.73083919e-02  1.56292754e-02\n",
      "   2.16765987e-02 -1.73335828e-02 -3.60907584e-02  1.74501537e-02\n",
      "   9.27830835e-03 -3.89153790e-02 -3.15378318e-02 -5.05587858e-02\n",
      "   4.08865627e-02  3.20201604e-02 -3.15986110e-02 -4.76342180e-02\n",
      "   4.15512067e-02  4.15493079e-02 -5.34723132e-02 -2.31257648e-02\n",
      "  -3.32247394e-02 -2.23778214e-02 -4.21123936e-02  1.20563647e-01\n",
      "   3.80209893e-02  1.01053797e-03 -4.42167979e-02 -4.48260987e-03\n",
      "   5.46638410e-02 -1.20138977e-03 -2.07902000e-02 -8.68299602e-03\n",
      "   3.11772651e-02  9.55976497e-03  3.78568010e-02 -3.06236557e-02\n",
      "  -2.45232977e-03  2.12438664e-02 -5.19557876e-03  3.41762740e-02\n",
      "   4.01043486e-03  2.02855535e-02 -2.65720102e-02  1.70304411e-03\n",
      "  -2.15597239e-02  3.00614991e-02 -2.16184291e-02  3.59020288e-02\n",
      "   6.90739755e-03 -1.84395369e-02  1.04281167e-02 -1.48532698e-02\n",
      "   1.95457410e-02  8.51631002e-03  5.26602113e-02 -8.49290230e-03\n",
      "   5.50449378e-03  1.30155482e-02  7.65384047e-03  2.20987631e-03]\n",
      " [ 3.71775632e-01 -1.52432413e-01  4.42243855e-03 -7.78193103e-02\n",
      "  -6.69006015e-02 -7.01900161e-02  4.48141340e-02  3.36289254e-02\n",
      "  -3.72851305e-02 -4.13998325e-03  6.00146308e-02  3.77185364e-02\n",
      "   1.90548066e-02  1.80783834e-04 -4.05723489e-02  4.53917193e-02\n",
      "   2.62705769e-02 -1.56183165e-03 -3.45388539e-02  3.50694377e-03\n",
      "   2.49027119e-02  2.41649276e-02  2.63141266e-02 -2.29176554e-02\n",
      "  -3.81398413e-02 -1.28919714e-02  2.47841656e-02 -3.28155882e-02\n",
      "   6.54681448e-03  7.62140560e-02 -4.11548915e-02 -8.04184315e-03\n",
      "  -1.32026381e-02 -5.28465685e-03 -8.90472076e-03  9.68692497e-03\n",
      "  -1.07892890e-02  1.91502186e-02 -9.45936106e-03 -1.28321393e-02\n",
      "  -3.11535086e-02  7.04382805e-03 -3.39288988e-03 -1.72180478e-03\n",
      "   4.99231481e-03  2.28490852e-04  6.71884099e-03  3.20726225e-02\n",
      "  -3.03633163e-02  2.89808102e-02 -1.42336835e-02 -9.07834917e-03\n",
      "   3.75601703e-02 -8.31879324e-03  5.48664511e-02  7.03209368e-03\n",
      "   8.25184548e-03  5.19377425e-03 -3.30848305e-03  1.04047383e-02\n",
      "   2.45157591e-02 -1.28599089e-02  1.44947359e-02  7.52758588e-04\n",
      "   3.89353918e-03 -2.11798781e-02  7.37297644e-03  1.05782126e-02\n",
      "  -2.45820761e-03  1.20575265e-02 -1.80855261e-02  4.61214965e-04\n",
      "   6.92872234e-03 -2.79435175e-02  1.29106877e-02  2.65105936e-03\n",
      "   5.33447187e-03  1.75963099e-02 -7.55978540e-03  5.42245785e-03\n",
      "  -1.04585078e-02 -9.26765902e-03 -5.19837148e-02 -1.87605034e-02\n",
      "  -3.03100047e-02 -2.06198738e-02 -3.64502975e-02  2.90944231e-02\n",
      "   2.18539650e-02 -1.21629471e-03  4.16819120e-02  8.34205670e-03\n",
      "   6.97657246e-03  1.18969814e-02 -3.06447057e-03 -2.34144290e-02\n",
      "   1.45107781e-02  1.67604498e-02  1.61344778e-03  2.26315095e-02]\n",
      " [ 2.85476033e-01 -1.40869116e-01  1.15537017e-01 -6.10375018e-02\n",
      "  -1.29544132e-01  2.83509527e-02 -9.28065684e-03  6.14429851e-02\n",
      "   7.05393892e-03  1.50383835e-02 -2.64274585e-02  6.79160825e-02\n",
      "   1.66073099e-02  5.51777033e-02 -5.39643674e-02  2.54494807e-03\n",
      "  -9.11423645e-03 -1.09193318e-01  2.69830360e-02 -3.33504671e-02\n",
      "  -3.26219390e-03  2.90993657e-02  5.04188476e-03  2.78851654e-02\n",
      "   5.17802656e-02 -3.61072170e-02  6.88826051e-03  3.79687818e-02\n",
      "  -9.66828167e-03 -7.90232052e-03 -2.92178687e-02 -3.16564417e-02\n",
      "  -8.13730883e-03  1.05577541e-02 -8.47161520e-04 -9.70597842e-03\n",
      "   4.25562763e-03 -7.54812315e-02  2.33331481e-02  4.23076985e-02\n",
      "  -4.62678712e-02  2.48443724e-02 -1.90001614e-02  1.39937029e-02\n",
      "   5.00578626e-02 -1.08209495e-02  1.17273205e-03  4.72558586e-02\n",
      "   4.00430592e-02  1.39363734e-02 -9.09764309e-03  9.88006931e-03\n",
      "   1.01550518e-02 -1.86204024e-02  2.02370441e-02 -1.69326016e-03\n",
      "   2.94860314e-02  3.79805727e-02  8.38129503e-02  5.30701592e-02\n",
      "  -1.24784124e-02  4.13438759e-02  1.57718777e-02 -3.69537821e-02\n",
      "   4.72724327e-02  4.55800275e-02 -4.58803714e-03  2.19595708e-02\n",
      "   3.70338707e-02 -5.39832755e-03 -2.91887958e-03  2.62892111e-02\n",
      "  -2.53755885e-02  1.43832011e-02 -1.42926921e-02  3.17351447e-02\n",
      "  -1.92004239e-02 -2.72274927e-02  2.14057803e-03  3.04495548e-02\n",
      "  -3.07075472e-02  4.06989255e-03  4.06685570e-02 -2.61547709e-02\n",
      "  -3.45229204e-02  1.10492936e-02 -7.07861412e-03  1.22056405e-02\n",
      "  -1.82812529e-02  1.27021247e-02  2.72834700e-03  3.32665665e-02\n",
      "  -3.48555538e-03  1.62778953e-02  4.28387540e-02  4.13088226e-02\n",
      "   1.80622798e-04 -4.76437272e-03  5.04271476e-03 -1.83751163e-02]]\n"
     ]
    }
   ],
   "source": [
    "representaciones = {}\n",
    "for c in combo:\n",
    "    print(f'Procesando: {c}')\n",
    "    \n",
    "    #TF-IDF\n",
    "    vectorizer = TfidfVectorizer()\n",
    "    X_vec = vectorizer.fit_transform(X_preprocessed)\n",
    "    representaciones[f'{c} + TF-IDF'] = X_vec\n",
    "    print(f'Combinación: {c} + TF-IDF\\nPreview:', X_vec[:5])\n",
    "\n",
    "    #TF-IDF + SVD\n",
    "    svd = TruncatedSVD(n_components=100, random_state=0)\n",
    "    X_vecf = svd.fit_transform(X_vec)\n",
    "    representaciones[f'{c} + TF-IDF + SVD'] = X_vecf\n",
    "    print(f'Combinación: {c} + TF-IDF + SVD\\nPreview:', X_vecf[:5])"
   ]
  },
  {
   "cell_type": "markdown",
   "metadata": {},
   "source": [
    "#### División de datos"
   ]
  },
  {
   "cell_type": "code",
   "execution_count": 27,
   "metadata": {},
   "outputs": [],
   "source": [
    "X_train, X_test, y_train, y_test = train_test_split(X_vecf, y, test_size=0.2, random_state=0, shuffle=True)"
   ]
  },
  {
   "cell_type": "markdown",
   "metadata": {},
   "source": [
    "#### Folds"
   ]
  },
  {
   "cell_type": "code",
   "execution_count": 28,
   "metadata": {},
   "outputs": [
    {
     "name": "stdout",
     "output_type": "stream",
     "text": [
      "F1 Score: 0.40796196349214797\n"
     ]
    },
    {
     "name": "stderr",
     "output_type": "stream",
     "text": [
      "c:\\Users\\dern9\\AppData\\Local\\Programs\\Python\\Python312\\Lib\\site-packages\\sklearn\\neural_network\\_multilayer_perceptron.py:691: ConvergenceWarning: Stochastic Optimizer: Maximum iterations (200) reached and the optimization hasn't converged yet.\n",
      "  warnings.warn(\n"
     ]
    },
    {
     "name": "stdout",
     "output_type": "stream",
     "text": [
      "F1 Score: 0.3893115262221973\n"
     ]
    },
    {
     "name": "stderr",
     "output_type": "stream",
     "text": [
      "c:\\Users\\dern9\\AppData\\Local\\Programs\\Python\\Python312\\Lib\\site-packages\\sklearn\\neural_network\\_multilayer_perceptron.py:691: ConvergenceWarning: Stochastic Optimizer: Maximum iterations (200) reached and the optimization hasn't converged yet.\n",
      "  warnings.warn(\n"
     ]
    },
    {
     "name": "stdout",
     "output_type": "stream",
     "text": [
      "F1 Score: 0.43240271400208774\n",
      "F1 Score: 0.387678155767626\n",
      "F1 Score: 0.3979934962148786\n",
      "F1 Score promedio: 0.40306957113978753\n"
     ]
    }
   ],
   "source": [
    "kf = KFold(n_splits=5)\n",
    "f1_scores = []\n",
    "\n",
    "for train_index, test_index in kf.split(X_train):\n",
    "    X_train_kf, X_test_kf = X_train[train_index], X_train[test_index]\n",
    "    y_train_kf, y_test_kf = y_train[train_index], y_train[test_index]\n",
    "\n",
    "    # Entrenar modelo\n",
    "    model = MLPClassifier(hidden_layer_sizes=(200,100))\n",
    "    model.fit(X_train_kf, y_train_kf)\n",
    "\n",
    "    # Evaluar modelo\n",
    "    y_pred = model.predict(X_test_kf)\n",
    "    f1 = f1_score(y_test_kf, y_pred, average='macro')\n",
    "    print(f'F1 Score: {f1}')\n",
    "    # Guardar f1_score\n",
    "    f1_scores.append(f1)\n",
    "average_f1 = np.mean(f1_scores)\n",
    "print(f'F1 Score promedio: {average_f1}')"
   ]
  },
  {
   "cell_type": "markdown",
   "metadata": {},
   "source": [
    "#### Final (?"
   ]
  },
  {
   "cell_type": "code",
   "execution_count": 29,
   "metadata": {},
   "outputs": [
    {
     "name": "stdout",
     "output_type": "stream",
     "text": [
      "F1 Score final: 0.40427357625247334\n",
      "              precision    recall  f1-score   support\n",
      "\n",
      "           1       0.35      0.32      0.34       104\n",
      "           2       0.23      0.21      0.22       145\n",
      "           3       0.29      0.30      0.30       422\n",
      "           4       0.35      0.34      0.34      1163\n",
      "           5       0.82      0.83      0.82      4209\n",
      "\n",
      "    accuracy                           0.67      6043\n",
      "   macro avg       0.41      0.40      0.40      6043\n",
      "weighted avg       0.67      0.67      0.67      6043\n",
      "\n"
     ]
    },
    {
     "name": "stderr",
     "output_type": "stream",
     "text": [
      "c:\\Users\\dern9\\AppData\\Local\\Programs\\Python\\Python312\\Lib\\site-packages\\sklearn\\neural_network\\_multilayer_perceptron.py:691: ConvergenceWarning: Stochastic Optimizer: Maximum iterations (200) reached and the optimization hasn't converged yet.\n",
      "  warnings.warn(\n"
     ]
    }
   ],
   "source": [
    "final_model = MLPClassifier(hidden_layer_sizes=(200,100))\n",
    "final_model.fit(X_train, y_train)\n",
    "y_pred = final_model.predict(X_test)\n",
    "final_f1 = f1_score(y_test, y_pred, average='macro')\n",
    "print(f'F1 Score final: {final_f1}')\n",
    "print(classification_report(y_test, y_pred))"
   ]
  },
  {
   "cell_type": "code",
   "execution_count": null,
   "metadata": {},
   "outputs": [],
   "source": []
  }
 ],
 "metadata": {
  "kernelspec": {
   "display_name": "Python 3",
   "language": "python",
   "name": "python3"
  },
  "language_info": {
   "codemirror_mode": {
    "name": "ipython",
    "version": 3
   },
   "file_extension": ".py",
   "mimetype": "text/x-python",
   "name": "python",
   "nbconvert_exporter": "python",
   "pygments_lexer": "ipython3",
   "version": "3.12.1"
  }
 },
 "nbformat": 4,
 "nbformat_minor": 2
}
