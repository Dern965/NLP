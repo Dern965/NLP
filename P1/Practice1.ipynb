{
 "cells": [
  {
   "cell_type": "markdown",
   "metadata": {},
   "source": [
    "# Practice 1 Regular expressions\n",
    "***\n",
    "Rodriguez Nuñez Diego Eduardo"
   ]
  },
  {
   "cell_type": "markdown",
   "metadata": {},
   "source": [
    "• Use regular expressions to extract the following strings in the corpus\n",
    "of tweets:\n",
    "\n",
    "• Hashtags\n",
    "\n",
    "• Users\n",
    "\n",
    "• URLs\n",
    "\n",
    "• Time (18:30, 5 hrs, 3 am, and any other valid format you can find)\n",
    "\n",
    "• Emoticons in ascii :D, :), :p, and any other you can find\n",
    "\n",
    "• Emojis (https://unicode.org/emoji/charts/full-emoji-list.html)"
   ]
  },
  {
   "cell_type": "code",
   "execution_count": 1,
   "metadata": {},
   "outputs": [],
   "source": [
    "import pandas as pd\n",
    "import re\n",
    "from collections import Counter"
   ]
  },
  {
   "cell_type": "code",
   "execution_count": 2,
   "metadata": {},
   "outputs": [],
   "source": [
    "datos = pd.read_csv(\"tweets.csv\")\n",
    "tweets = datos[\"text\"].str.cat(sep=\" \")"
   ]
  },
  {
   "cell_type": "code",
   "execution_count": 3,
   "metadata": {},
   "outputs": [],
   "source": [
    "hashtag_expression = r'#\\w+'\n",
    "user_expression = r'@\\w+'\n",
    "url_expression = r'http[s]?://[^\\s]+'\n",
    "time_expression = r'\\b(?:[01]\\d|2[0-3]):[0-5]\\d\\b|\\b\\d{1,2}\\s*(?:h|hr|hrs|hora|horas|hour|hours)\\b|\\b\\d{1,2}\\s*(?:min|mins|minuto|minutos|minute|minutes)\\b|\\b(?:[01]\\d|2[0-3])\\s*(?:a\\.?m\\.?|p\\.?m\\.?)\\b'\n",
    "emoticon_expression = r'(?::|;|=|X|x)(?:-)?(?:[DPdpOoSs3]|[()]{1,2})'\n",
    "emoji_expression = r'[\\U00010000-\\U0010FFFF]'"
   ]
  },
  {
   "cell_type": "markdown",
   "metadata": {},
   "source": [
    "### Hashtags"
   ]
  },
  {
   "cell_type": "code",
   "execution_count": 4,
   "metadata": {},
   "outputs": [
    {
     "name": "stdout",
     "output_type": "stream",
     "text": [
      "Hashtags:  298\n",
      "['#NadieComoTú', '#MicroCuento', '#BrisbaneTennis', '#CabalgataRTVE', '#LPAxFCB', '#chorrossv', '#OTDirecto5E', '#oración', '#Camino', '#OpusDei', '#GranHermano', '#GranHermano', '#granhermano', '#gh23', '#granhermano', '#gh23', '#granhermano', '#AquamanAndTheLostKingdom', '#NadieComoTú', '#MicroCuento', '#GranHermano', '#Bailando2023', '#Bailando2023', '#GranHermano', '#Bailando2023', '#GranHermano', '#GranHermanoArgentina', '#granhermano', '#gelp', '#gelp', '#gelp', '#gelp', '#gelp', '#gelp', '#PodemosHablarCHV', '#GranHermano', '#OTDirecto5D', '#ElBaronRampante', '#GranHermano', '#GranHermano', '#rosina', '#granhermano', '#Granada', '#LaPromesa', '#AEW', '#AEWRampage', '#Brisbane', '#GranHermano', '#MiguelHernández', '#NadieComoTú', '#MicroCuento', '#OTDirecto5E', '#BuenViernes', '#GranHermano', '#GranHermano', '#rosina', '#granhermano', '#Brisbane', '#OTDirecto5E', '#UnidosTodosX', '#DeZurdaTeam', '#GranHermano', '#GranHermano', '#hate', '#Los8EscalonesDelMillon', '#VespucioSur', '#Ruta5', '#VíasChile', '#Ruta5', '#VíasChile', '#UnidosTodosX', '#DeZurdaTeam', '#LastTwilightSeriesEP9', '#UnidosTodosX', '#DeZurdaTeam', '#DeViernes5E', '#granhermano', '#gh23', '#BambaşkaBiri', '#nv', '#maestros', '#escuela', '#indignada', '#LastTwilightSeriesEP9', '#OTDirecto4E', '#GranHermano', '#BuenosChicos', '#ConsejoDelDía', '#TipsParaLaVida', '#UnidosTodosX', '#DeZurdaTeam', '#QUACKITYPLEASE', '#Los8EscalonesDelMillon', '#Bitcoin', '#BitcoinETFs', '#LasPalmasBarça', '#VamosLasPalmas', '#sueño', '#ufo', '#ovni', '#abduction', '#HerniARiver', '#Floricienta', '#Twitter', '#OTDirecto4E', '#CoMPaS', '#VespucioSur', '#Viernes', '#GranHermano', '#VenezuelaIndetenible', '#ictus', '#Mante', '#Tamaulipas', '#Madero', '#TodosSomosUno', '#nocode', '#nocode', '#nocodeeselfuturo', '#elfuturoeshoy', '#AsistenteVirtual', '#Productividad', '#Tecnología', '#AteneaLabs', '#mpt', '#Twitter', '#OTDirecto4E', '#CoMPaS', '#UnidosTodosX', '#DeZurdaTeam', '#Waterpolo', '#JuntosyRevueltos', '#TeamDaisy', '#gelp', '#TemblorCR', '#VíasChile', '#GranHermano', '#GranHermano', '#QEPD', '#atrapalaemoción', '#ServicioPúblico', '#Honor', '#socialiteen', '#Argentina', '#VespucioSur', '#Diciembre', '#unprofessore2', '#SmackDown', '#manifestacion', '#leydelaatraccion', '#UnidosTodosX', '#DeZurdaTeam', '#UnidosTodosX', '#DeZurdaTeam', '#BambaşkaBiri', '#VidaaMuyarachi', '#SmackDown', '#UnidosTodosX', '#DeZurdaTeam', '#UnidosTodosX', '#DeZurdaTeam', '#Tamaulipas', '#UnidosTodosX', '#DeZurdaTeam', '#UnidosTodosX', '#DeZurdaTeam', '#EchenmeElAvispero', '#UnidosTodosX', '#DeZurdaTeam', '#btc', '#UFC300', '#UFC301', '#somoslideres', '#exito', '#motivacion', '#GranHermano', '#NoLoLlamesAccidente', '#GranHermano', '#UnidosTodosX', '#DeZurdaTeam', '#gym', '#fitness', '#selfdevelopment', '#business', '#crecimiento', '#crecimiento2024', '#HONDURAS', '#Mujeres', '#Ruta5Sur', '#NoLoLlamesAccidente', '#UnidosTodosX', '#Fidel', '#DeZurdaTeam', '#LegisladoresFrenenAlDictadorYA', '#LegisladoresFrenenAlDictadorYA', '#UnidosTodosX', '#DeZurdaTeam', '#UnidosTodosX', '#DeZurdaTeam', '#DesafíoAmbicioso', '#IntelIA', '#Articul8AI', '#SiesaSoftwareERP', '#UnidosTodosX', '#DeZurdaTeam', '#UnidosTodosX', '#DeZurdaTeam', '#FidelPorSiempre', '#LatirXUn26Avileño', '#UnidosTodosX', '#DeZurdaTeam', '#MCCelebrityEc', '#UnidosTodosX', '#DeZurdaTeam', '#Zalaquett', '#TiemposViolentos', '#CarlosBremer', '#TaxationIsTheft', '#SharkTank', '#UnidosTodosX', '#DeZurdaTeam', '#EstaEsLaRevolucion', '#VivaCuba', '#Leones', '#Brooklyn', '#Oklahoma', '#CaraqueñoCaraquista', '#dia05', '#HistoriaAfroperuana', '#Pzo', '#datasportsxtntsports', '#AustinReaves', '#LakeShow', '#NBAxESPN', '#KennyG', '#lvbp', '#FueraElDictador', '#UnderMyWriting', '#UMW', '#granhermano', '#gh23', '#CjQKIAL1PfYMtji', '#OTDIRECTO4E', '#Blackface', '#next', '#FueraElDictador', '#UnderMyWriting', '#UMW', '#CMLL', '#granhermano', '#GranHermano', '#WhatIf', '#FreePalestine', '#UnidosTodosX', '#DeZurdaTeam', '#UnidosTodosX', '#DeZurdaTeam', '#AAAJ', '#LaSociedadDeLaNieve', '#GranHermano', '#gh2024', '#UnidosTodosX', '#DeZurdaTeam', '#autocuidado', '#estabilidademocional', '#𝐓𝐈𝐌𝐄𝐋𝐄𝐒𝐒', '#DeÚltimo', '#Contraparte', '#OTDirecto5E', '#SanctiSpíritusEnMarcha', '#EstaEsLaRevolución', '#BuenasNoticias', '#CentroFederalLaboral', '#Medellin', '#MedellinVuelveaBrillar', '#NLConClaudia', '#Viernes', '#UnidosTodosX', '#DeZurdaTeam', '#UnidosTodosX', '#DeZurdaTeam', '#MCCelebrityEc', '#LoveSongforIllusionEp1', '#escribosinfiltro', '#Venados', '#Charros', '#YoSoyVenados', '#Estrellas', '#Tigres', '#RoundRobinLIDOM', '#BRV', '#TIB', '#SomosBravos', '#LVBP', '#SomosMargarita', '#doxing', '#LaOdisea', '#NoLaVen', '#LaCastaErasVos']\n",
      "##############################################\n",
      "Top 10 hashtags\n"
     ]
    },
    {
     "data": {
      "text/plain": [
       "[('#UnidosTodosX', 26),\n",
       " ('#DeZurdaTeam', 26),\n",
       " ('#GranHermano', 21),\n",
       " ('#granhermano', 9),\n",
       " ('#gelp', 7),\n",
       " ('#OTDirecto5E', 4),\n",
       " ('#gh23', 4),\n",
       " ('#NadieComoTú', 3),\n",
       " ('#MicroCuento', 3),\n",
       " ('#Bailando2023', 3)]"
      ]
     },
     "execution_count": 4,
     "metadata": {},
     "output_type": "execute_result"
    }
   ],
   "source": [
    "hashtags = re.findall(hashtag_expression, tweets)\n",
    "freq_hashtags = len(hashtags)\n",
    "print(\"Hashtags: \", freq_hashtags)\n",
    "print(hashtags)\n",
    "top_hashtags = Counter(hashtags).most_common(10)\n",
    "print(\"##############################################\")\n",
    "print(\"Top 10 hashtags\")\n",
    "top_hashtags"
   ]
  },
  {
   "cell_type": "markdown",
   "metadata": {},
   "source": [
    "### Users"
   ]
  },
  {
   "cell_type": "code",
   "execution_count": 5,
   "metadata": {},
   "outputs": [
    {
     "name": "stdout",
     "output_type": "stream",
     "text": [
      "Usuarios:  194\n",
      "['@FranciaMarquezM', '@DilianFrancisca', '@LaFMCali', '@elpaiscali', '@MabelLaraNews', '@ELTIEMPO', '@sergio_fajardo', '@MinAmbienteCo', '@ParquesColombia', '@CaracolRadio', '@GobValle', '@EnterateCali', '@Noti90Minutos', '@MabelLaraNews', '@ClaraLuzRoldan', '@BLUPacifico', '@HotelMaguipi', '@petrogustavo', '@MPguatemala', '@PDHgt', '@DrGiammattei', '@LuisBNava', '@LATAM_CHI', '@lambofyah', '@RiverPlate', '@EuricSanti', '@GranHermanoAr', '@GranHermanoAc', '@JMilei', '@Woshingo', '@Correos', '@CorreosAtiende', '@BlazersArgento', '@petrogustavo', '@_somosmadrid', '@JLMendoza_', '@jmena26', '@_somosmadrid', '@JLMendoza_', '@jmena26', '@TiendaSoriana', '@OrgSoriana', '@biobio', '@radiocarab', '@TTISantiago', '@mop_chile', '@mop_rm', '@DeZurdaTeam_', '@FrankLPortal', '@marianacuba71', '@ManoloRGomez', '@gabyisla89', '@PedritoRojo83', '@KatiBaez22', '@Avelazquezdiaz', '@AlmaguerLemus', '@CeciCS14', '@BETZABEGlezP', '@record_mexico', '@Ansopas117', '@guajirabikechallenge', '@petrogustavo', '@AlejandroChar', '@petrogustavo', '@NestorMoralesC', '@VickyDavilaH', '@darcyquinnr', '@gusgomez1701', '@WhatsApp', '@telegram', '@lopezobrador_', '@2011rafaelhomez', '@LibertyPR', '@TiendaSoriana', '@OrgSoriana', '@danteauthor', '@JorgeBrito', '@danteauthor', '@biobio', '@radiocarab', '@TTISantiago', '@mop_chile', '@mop_rm', '@ttggk_jkv', '@glorianaveillan', '@frmvlt', '@DiputadosAR', '@fgcabezadevaca', '@Dr_AVillarreal', '@leones_cbbc', '@PitiHurtado', '@LaloAlzueta', '@outofthebooks_', '@YipiYaHey', '@rankerstudio', '@ivanwese', '@biobio', '@radiocarab', '@TTISantiago', '@mop_chile', '@mop_rm', '@ttggk_jkv', '@glorianaveillan', '@MONARCHENTITY', '@carlosbremerg', '@HelenaUranBideg', '@DeZurdaTeam_', '@CecyCarrizo4', '@DeZurdaTeam_', '@petrogustavo', '@ChevroletMexico', '@GM', '@DeZurdaTeam_', '@AlcaldiaCTG', '@MincomercioCo', '@Enrique_GomezM', '@TurismoColom', '@Ciudad_Ojeda', '@DeZurdaTeam_', '@FrankLPortal', '@marianacuba71', '@ManoloRGomez', '@gabyisla89', '@PedritoRojo83', '@KatiBaez22', '@Avelazquezdiaz', '@AlmaguerLemus', '@CeciCS14', '@BETZABEGlezP', '@SoyParkerG', '@HeritaPlay', '@ChevroletMexico', '@GM', '@radioamericahn', '@DeZurdaTeam_', '@Diputados_Todos', '@SenadoresFPVPJ', '@Senadores_Todos', '@SenadoUxP_BA', '@roldangabb', '@SantaFe', '@petrogustavo', '@JMilei', '@carlosbremerg', '@pfvierci', '@FilmBayona', '@_nandoparrado', '@GustavoZerbino', '@carlitospaez', '@JMilei', '@PartidoPCC', '@yurisley_valdes', '@AdisFiol', '@AsambleaMoa', '@Uber_Support', '@Uber', '@Uber_Peru', '@IndecopiOficial', '@foodkartvzla', '@OscarAn10669190', '@DenisaSikorov4', '@OscarAn10669190', '@LauraBruges', '@laslolouss', '@YusebYong', '@FranciscoBurgoa', '@kenneth_garay', '@obricio7', '@sixers', '@JMilei', '@FilmBayona', '@pfvierci', '@elxocas', '@inaflashdrive', '@SantaFe', '@petrogustavo', '@roldangabb', '@XiomaraCastroZ', '@MarlonOchoaHN', '@warren_ochoa', '@OctaJPP', '@LeniaBatres', '@MRARANIBAR', '@CdeBachilleres', '@sintcb', '@ConcejoMedellin', '@PRDesPanama', '@asambleadeant', '@Corantioquia', '@cornare', '@CORPOURABA', '@Areametropol', '@EOBASEBALLCLUB', '@Ansopas117']\n",
      "##############################################\n",
      "Top 10 usuarios\n"
     ]
    },
    {
     "data": {
      "text/plain": [
       "[('@petrogustavo', 7),\n",
       " ('@DeZurdaTeam_', 6),\n",
       " ('@JMilei', 4),\n",
       " ('@biobio', 3),\n",
       " ('@radiocarab', 3),\n",
       " ('@TTISantiago', 3),\n",
       " ('@mop_chile', 3),\n",
       " ('@mop_rm', 3),\n",
       " ('@MabelLaraNews', 2),\n",
       " ('@_somosmadrid', 2)]"
      ]
     },
     "execution_count": 5,
     "metadata": {},
     "output_type": "execute_result"
    }
   ],
   "source": [
    "users = re.findall(user_expression, tweets)\n",
    "freq_users = len(users)\n",
    "print(\"Usuarios: \", freq_users)\n",
    "print(users)\n",
    "top_users = Counter(users).most_common(10)\n",
    "print(\"##############################################\")\n",
    "print(\"Top 10 usuarios\")\n",
    "top_users"
   ]
  },
  {
   "cell_type": "markdown",
   "metadata": {},
   "source": [
    "### URL's"
   ]
  },
  {
   "cell_type": "code",
   "execution_count": 6,
   "metadata": {},
   "outputs": [
    {
     "name": "stdout",
     "output_type": "stream",
     "text": [
      "URLs:  8\n",
      "['https://elfaro.net/es/202312/columnas/27191/el-voto-de-la-frustracion-gano-el-tour-electoral-de-2023', 'https://www.eldiario.es/1_a4fa72?utm_campaign=botonera-share&utm_medium=social&utm_source=twitter', 'https://www.eldiario.es/1_a4fa72?utm_campaign=botonera-share&utm_medium=social&utm_source=twitter', 'https://www.youtube.com/watch?v=1QvBbg38UY8&ab_channel=ElMostrador', 'https://nitter.perennialte.ch/MaxKaiser75/status/1743261455326007754/video/1', 'https://signal.group/#CjQKIAL1PfYMtji-3OMw24eFifKyZSI9bNbHpdvfWONAMrnvEhAgxrDIgXSX8-35VZTa6H_n', 'https://t.me/tierrasant', 'https://twitter.com/MaxKaiser75/status/1743261455326007754/video/1']\n",
      "##############################################\n",
      "Top 10 URLs\n"
     ]
    },
    {
     "data": {
      "text/plain": [
       "[('https://www.eldiario.es/1_a4fa72?utm_campaign=botonera-share&utm_medium=social&utm_source=twitter',\n",
       "  2),\n",
       " ('https://elfaro.net/es/202312/columnas/27191/el-voto-de-la-frustracion-gano-el-tour-electoral-de-2023',\n",
       "  1),\n",
       " ('https://www.youtube.com/watch?v=1QvBbg38UY8&ab_channel=ElMostrador', 1),\n",
       " ('https://nitter.perennialte.ch/MaxKaiser75/status/1743261455326007754/video/1',\n",
       "  1),\n",
       " ('https://signal.group/#CjQKIAL1PfYMtji-3OMw24eFifKyZSI9bNbHpdvfWONAMrnvEhAgxrDIgXSX8-35VZTa6H_n',\n",
       "  1),\n",
       " ('https://t.me/tierrasant', 1),\n",
       " ('https://twitter.com/MaxKaiser75/status/1743261455326007754/video/1', 1)]"
      ]
     },
     "execution_count": 6,
     "metadata": {},
     "output_type": "execute_result"
    }
   ],
   "source": [
    "urls = re.findall(url_expression, tweets)\n",
    "freq_urls = len(urls)\n",
    "print(\"URLs: \", freq_urls)\n",
    "print(urls)\n",
    "top_urls = Counter(urls).most_common(10)\n",
    "print(\"##############################################\")\n",
    "print(\"Top 10 URLs\")\n",
    "top_urls"
   ]
  },
  {
   "cell_type": "markdown",
   "metadata": {},
   "source": [
    "### Time"
   ]
  },
  {
   "cell_type": "code",
   "execution_count": 7,
   "metadata": {},
   "outputs": [
    {
     "name": "stdout",
     "output_type": "stream",
     "text": [
      "Tiempos:  37\n",
      "['4 horas', '2 horas', '45 minutos', '15 minutos', '24 horas', '10min', '3horas', '23:58', '24h', '3horas', '23:58', '3horas', '23:58', '3horas', '23:58', '17:45', '6 horas', '3 horas', '17:45', '17am', '11:11', '12 horas', '11:11', '17:45', '23 hrs', '4h', '10 pm', '7 horas', '30 min', '10 min', '30 mins', '50h', '35h', '48h', '10 pm', '00:01', '5 minutos']\n",
      "##############################################\n",
      "Top 10 tiempos\n"
     ]
    },
    {
     "data": {
      "text/plain": [
       "[('3horas', 4),\n",
       " ('23:58', 4),\n",
       " ('17:45', 3),\n",
       " ('11:11', 2),\n",
       " ('10 pm', 2),\n",
       " ('4 horas', 1),\n",
       " ('2 horas', 1),\n",
       " ('45 minutos', 1),\n",
       " ('15 minutos', 1),\n",
       " ('24 horas', 1)]"
      ]
     },
     "execution_count": 7,
     "metadata": {},
     "output_type": "execute_result"
    }
   ],
   "source": [
    "times = re.findall(time_expression, tweets)\n",
    "freq_times = len(times)\n",
    "print(\"Tiempos: \", freq_times)\n",
    "print(times)\n",
    "top_times = Counter(times).most_common(10)\n",
    "print(\"##############################################\")\n",
    "print(\"Top 10 tiempos\")\n",
    "top_times"
   ]
  },
  {
   "cell_type": "markdown",
   "metadata": {},
   "source": [
    "### Emoticons"
   ]
  },
  {
   "cell_type": "code",
   "execution_count": 8,
   "metadata": {},
   "outputs": [
    {
     "name": "stdout",
     "output_type": "stream",
     "text": [
      "Emoticones:  145\n",
      "['xd', 'xp', ':)', ':))', 'xp', 'xp', ':))', 'xp', 'xo', 'xp', 'xd', 'xd', 'xd', 'xd', 'xp', 'xo', 'xd', 'xp', 'xo', 'xp', 'xp', 'xs', 'xd', 'xp', 'xp', 'xp', 'xd', ':(', 'xp', 'xo', 'Xo', 'xo', 'xD', 'Xo', 'xp', 'xp', ':))', 'xp', 'xp', 'xp', '=s', 'xp', 'xo', 'xp', 'xd', 'xp', 'Xo', '=s', 'xp', ':3', ':)', 'xp', 'xo', 'xo', 'xp', 'xp', 'xp', 'xp', 'xo', 'xo', ':)', 'xp', 'xp', ':(', 'xs', 'xp', 'xp', 'xd', 'xd', 'xo', ':3', 'xd', 'xd', 'xd', 'xd', 'xp', 'xo', ':3', 'xp', 'xp', 'xp', 'xp', 'xp', 'xd', ':)', 'xp', ':3', 'xd', 'xp', ':3', 'xp', 'xp', 'xp', 'xp', 'xp', 'xp', 'xp', 'xp', ':3', 'xp', 'xp', 'xp', 'xo', 'xp', ':3', 'xp', ':p', 'xp', 'xs', 'xs', 'xp', 'xP', 'xp', 'xp', 'xp', 'xp', 'xp', 'XS', 'XD', 'xD', 'xp', 'xp', 'xp', 'xp', 'xp', 'XS', 'xp', 'xp', 'xp', 'xp', 'xo', 'xp', 'xo', 'xd', ':3', 'xp', 'xp', 'xp', 'xp', 'xp', 'xs', 'xs', 'xp', 'xp', 'xd']\n",
      "##############################################\n",
      "Top 10 emoticones\n"
     ]
    },
    {
     "data": {
      "text/plain": [
       "[('xp', 76),\n",
       " ('xd', 19),\n",
       " ('xo', 15),\n",
       " (':3', 8),\n",
       " ('xs', 6),\n",
       " (':)', 4),\n",
       " (':))', 3),\n",
       " ('Xo', 3),\n",
       " (':(', 2),\n",
       " ('xD', 2)]"
      ]
     },
     "execution_count": 8,
     "metadata": {},
     "output_type": "execute_result"
    }
   ],
   "source": [
    "emoticons = re.findall(emoticon_expression, tweets)\n",
    "freq_emoticons = len(emoticons)\n",
    "print(\"Emoticones: \", freq_emoticons)\n",
    "print(emoticons)\n",
    "top_emoticons = Counter(emoticons).most_common(10)\n",
    "print(\"##############################################\")\n",
    "print(\"Top 10 emoticones\")\n",
    "top_emoticons"
   ]
  },
  {
   "cell_type": "markdown",
   "metadata": {},
   "source": [
    "### Emojis"
   ]
  },
  {
   "cell_type": "code",
   "execution_count": 9,
   "metadata": {},
   "outputs": [
    {
     "name": "stdout",
     "output_type": "stream",
     "text": [
      "Emojis:  1059\n",
      "['😒', '🥳', '🥹', '🫶', '🏽', '🤬', '🐷', '🐽', '🔥', '🐶', '🙏', '🙏', '🙏', '🥰', '🤦', '😤', '😤', '🥳', '🥹', '🫶', '🏽', '💚', '🥺', '😭', '💔', '😭', '😭', '😭', '😭', '😭', '😭', '😔', '😨', '🤡', '😎', '😪', '👍', '😜', '😔', '😫', '🕯', '🕯', '🕯', '🕯', '💕', '💕', '🫵', '🏻', '🤡', '🤡', '🚬', '🚬', '😲', '🤔', '🤯', '🤣', '🥹', '🚬', '🚬', '👍', '😒', '🤗', '🙂', '😵', '💫', '😏', '🌍', '😭', '😭', '🩷', '🩷', '🩷', '😒', '😘', '😏', '😞', '😥', '👏', '🙄', '😒', '🥺', '🤦', '🩹', '💥', '😐', '🚬', '🤭', '🥹', '🩹', '👊', '🏽', '👏', '😣', '🩹', '🤒', '💘', '🌊', '🙃', '😅', '😷', '🥶', '🦕', '😊', '💋', '🤷', '😂', '🤷', '😂', '😂', '😩', '🤣', '🫤', '🙏', '🏽', '🫶', '🏽', '💋', '🤷', '😂', '🤷', '😂', '😂', '😭', '👣', '😪', '😂', '💖', '😂', '🤣', '👀', '🫶', '🏻', '😫', '😓', '💀', '💀', '😭', '👌', '👍', '🏽', '😩', '😩', '😴', '😴', '🥺', '💔', '🙃', '😅', '🥲', '🥲', '🥲', '🥲', '😩', '🤣', '🫤', '😔', '🥀', '😒', '💋', '🤷', '😂', '🤷', '😂', '😂', '🏃', '🏽', '😮', '💨', '💀', '🩹', '👍', '🏻', '🤷', '🥺', '😭', '😭', '😭', '🥴', '😆', '😂', '🤣', '🤦', '🙄', '😭', '😭', '😭', '😭', '😾', '😾', '😾', '😂', '🥹', '🥹', '🤍', '🖤', '👀', '🤬', '🎶', '🎶', '🥺', '🙏', '🏻', '🏼', '🙏', '🏻', '🥲', '💔', '🫶', '🏼', '👁', '👌', '😈', '😈', '😈', '👏', '🏼', '😕', '💛', '💔', '𝐏', '𝐫', '𝐞', '𝐫', '𝐫', '𝐞', '𝐬', '𝐞', '𝐫', '𝐯', '𝐚', '𝐬', '𝐥', '𝐢', '𝐛', '𝐞', '𝐫', '𝐚', '𝐫', '𝐞', '𝐦', '𝐨', '𝐬', '𝐞', '𝐥', '𝐩', '𝐞', '𝐫', '𝐬', '𝐨', '𝐧', '𝐚', '𝐣', '𝐞', '𝐝', '𝐢', '𝐬', '𝐩', '𝐨', '𝐧', '𝐢', '𝐛', '𝐥', '𝐞', '😔', '🤨', '😶', '😛', '👍', '🏻', '🙌', '🏻', '🎀', '🚬', '🚬', '🧑', '🍳', '🌚', '🤷', '🏻', '😹', '🇨', '🇴', '😞', '😵', '💫', '😭', '🥃', '🥃', '🥃', '🥃', '🥃', '😭', '😭', '😥', '😥', '😢', '😏', '🤍', '🏻', '🏻', '😭', '😕', '👌', '😈', '😈', '😈', '👏', '🏼', '🤔', '🤍', '👌', '😈', '😈', '😈', '👏', '🏼', '🚩', '🚩', '😔', '🔋', '💡', '💛', '💔', '🕯', '🕯', '🕯', '🥺', '🥺', '🥺', '🙏', '🏽', '🫡', '👍', '🏻', '👌', '😈', '😈', '😈', '👏', '🏼', '😭', '😭', '😭', '🥹', '🤣', '🫤', '😫', '😭', '😭', '😭', '🦒', '🫠', '🌧', '🌧', '🤣', '🤣', '🏼', '😭', '😭', '🛸', '😬', '🪽', '🎵', '😇', '😴', '😭', '😭', '😭', '😭', '😭', '😩', '😩', '💔', '💔', '🫤', '👏', '🧑', '🦲', '🙄', '🙄', '😭', '😭', '😭', '😭', '😭', '😍', '😍', '😍', '🥺', '🫶', '🏻', '😍', '😍', '💕', '💔', '😔', '😢', '🙏', '🏻', '🙏', '🏻', '🙏', '🏻', '🤪', '🏿', '👑', '🥺', '🫶', '🏼', '🩷', '🧡', '🇲', '🇽', '🇺', '🇸', '🧠', '💊', '🇯', '🇵', '😭', '😭', '📈', '💼', '💡', '🚀', '💪', '🤖', '🚀', '😂', '🤔', '💘', '🛠', '😪', '🔥', '🦁', '🦁', '🔥', '🔥', '🦁', '🦁', '🔥', '🥹', '🤣', '🫵', '🏽', '🩹', '🙃', '🙃', '🙃', '🥲', '🥲', '🤣', '😂', '🙏', '🏻', '🌧', '🌧', '🤣', '🤣', '🐯', '🔥', '🔥', '📲', '🗨', '😭', '😭', '👏', '🧑', '🦲', '🇵', '🇭', '🇨', '🇳', '🇺', '🇸', '😹', '😭', '😌', '🇳', '🇱', '🇪', '🇦', '🇨', '🇵', '🇮', '🇱', '🏔', '🏖', '💆', '🏼', '🙏', '🏻', '😕', '🥳', '🍾', '🙄', '😒', '🛐', '🔴', '🥹', '🙂', '🙃', '😡', '😞', '🫨', '🚌', '🌊', '🐋', '💫', '🥺', '🤍', '💕', '🦸', '🏻', '💙', '🤍', '🙏', '🏼', '🙏', '🏼', '🫶', '😍', '😍', '🦆', '🎸', '💭', '😮', '💨', '😋', '🥴', '🥰', '🙏', '🙏', '🕊', '🙏', '🏼', '💙', '🤝', '🙌', '🙌', '🌈', '🍂', '🥲', '🤡', '🥰', '🥺', '🫨', '🤣', '🤯', '😩', '🌺', '🙏', '🏽', '😮', '💨', '😍', '😍', '😍', '🥺', '🫶', '🏻', '😍', '😍', '🙏', '🏻', '🫠', '🫠', '🫠', '🥺', '🥺', '🥺', '🥺', '🥺', '🥺', '🥺', '🥺', '🥺', '🥺', '🥺', '🥺', '🥺', '🥺', '🥺', '🥺', '🥺', '🥺', '🥺', '🥺', '🥺', '🥺', '🥺', '🥺', '🥺', '🥺', '🥺', '🥺', '🥺', '🥺', '🥺', '🥺', '🥺', '🥺', '🥺', '🥺', '🥺', '🥺', '🥺', '🥺', '😆', '🥹', '👍', '😍', '🫶', '🏾', '😬', '💵', '😝', '🩵', '😻', '🛠', '😍', '🎶', '🫶', '🏻', '🫂', '😌', '🙌', '🏽', '🤍', '👑', '👑', '🤍', '🙌', '🏽', '🤔', '🙏', '🏾', '😾', '🩵', '🎂', '🎂', '🤍', '🤍', '🤍', '🤍', '🤍', '😊', '🙏', '🏻', '💕', '🙌', '🏾', '🙌', '🏻', '💚', '💋', '💸', '🙏', '🏼', '🤭', '💗', '🙌', '😍', '🫶', '🏾', '😬', '💵', '😝', '🩵', '😻', '🍃', '🤭', '😎', '🙌', '🏽', '🤍', '👑', '👑', '🤍', '🙌', '🏽', '🤔', '🙏', '🏾', '😾', '💀', '🫶', '🏼', '💋', '🙁', '🫂', '🤷', '😤', '🖤', '🫂', '🏽', '🤧', '🤗', '🙏', '🙏', '🌧', '🌧', '🤣', '🤣', '💁', '🏽', '😝', '😭', '😭', '😵', '💫', '😅', '🤷', '🏽', '🫶', '🏻', '👏', '🏻', '🥰', '😟', '👍', '🏼', '🥹', '🤣', '🫵', '🏽', '🩹', '🙃', '🙃', '🙃', '🥲', '🥲', '🥹', '💀', '💀', '💀', '😞', '🤪', '🤣', '🤣', '🤣', '🤣', '🤣', '🤣', '🤣', '🤣', '🙌', '🙌', '🍀', '🍀', '🙌', '😔', '🤣', '🩷', '🤗', '🙏', '🙏', '😤', '🥹', '😂', '🚗', '🚙', '🩹', '🕐', '💪', '🏻', '🪄', '💪', '🏽', '🏆', '😴', '🥱', '😵', '💫', '😅', '🤷', '🏽', '🫶', '🏻', '👏', '🏻', '🥰', '😟', '🔟', '🔟', '💪', '🏻', '😎', '😶', '🤍', '🍒', '🚗', '🤞', '🐊', '🇨', '🇺', '🚬', '🔥', '🪨', '💧', '🍃', '💪', '🌟', '💸', '😩', '💓', '🇦', '🇹', '🇨', '🇴', '🙏', '🏼', '😭', '😭', '😭', '😭', '😭', '😭', '😭', '🥵', '🥵', '🥵', '🤷', '😒', '🙏', '🏻', '🇦', '🇷', '💁', '🙌', '🏽', '🌹', '😂', '😂', '😂', '😂', '😂', '😂', '😂', '🙏', '🤩', '🩹', '🩹', '🤞', '😝', '😂', '💜', '💜', '😞', '🙏', '👍', '🇻', '🇪', '🏳', '🌈', '🤞', '🏼', '🖤', '🔱', '💥', '👑', '🩹', '🥹', '🥰', '🤞', '🏻', '😵', '💫', '😮', '💨', '😓', '🙏', '🏻', '🫶', '🙊', '👀', '💗', '🫂', '😑', '😭', '🤔', '🤔', '🙏', '🤦', '🏻', '🏳', '🏳', '🌈', '🚬', '🚬', '😔', '💥', '🚀', '🛸', '🌌', '👽', '💥', '🔓', '🕵', '💣', '🕵', '🌩', '🔒', '🔒', '🕰', '🤍', '👼', '😳', '😳', '😳', '🧵', '👇', '🔥', '😭', '😭', '😭', '😔', '😭', '💔', '🏳', '🏳', '🌈', '😣', '😣', '😵', '💫', '🤯', '🤯', '🥱', '🥱', '🛐', '🥰', '🙌', '😭', '😔', '🤠', '🎄', '🥳', '🎁', '🚨', '😢', '🕊', '😿', '🩹', '🫶', '🏻', '🤪', '🏽', '🩹', '🥹', '🫠', '🤣', '🙊', '😍', '😍', '🤍', '😭', '🫣', '🎵', '🎶', '🎵', '🎶', '🥹', '🥹', '🤷', '🏻', '🙌', '😭', '😔', '💩', '🥹', '🩹', '😂', '💙', '😃', '🤭', '😈', '🤪', '🇦', '🇹', '🇨', '🇴', '🙏', '🏼', '🙏', '🏻', '🩹', '🥺', '😳', '😳', '😳', '🖤', '👍', '🏼', '🤨', '🤨', '😭', '🥴', '😭', '🤠', '🎄', '🥳', '🎁', '🚨', '😎', '👉', '🏻', '🤓', '🤔', '𝗮', '𝗹', '𝗴', '𝘂', '𝗶', '𝗲', '𝗻', '𝐓', '𝐈', '𝐌', '𝐄', '𝐋', '𝐄', '𝐒', '𝐒', '🙄', '😭', '🤣', '🤣', '🙄', '🙄', '😅', '😖', '😖', '🔥', '🔼', '👏', '🏼', '🦌', '🤠', '😭', '😌', '🤨', '😶', '😛', '👍', '🏻', '🤭', '👑', '💜', '🤢', '🤦', '🤍', '🌟', '🙏', '😉', '🙃', '😭', '💅', '🏼']\n",
      "##############################################\n",
      "Top 10 emojis\n"
     ]
    },
    {
     "data": {
      "text/plain": [
       "[('😭', 67),\n",
       " ('🥺', 54),\n",
       " ('🏻', 38),\n",
       " ('🙏', 36),\n",
       " ('🤣', 28),\n",
       " ('😂', 25),\n",
       " ('🏽', 22),\n",
       " ('🏼', 21),\n",
       " ('🥹', 18),\n",
       " ('🤍', 18)]"
      ]
     },
     "execution_count": 9,
     "metadata": {},
     "output_type": "execute_result"
    }
   ],
   "source": [
    "emojis = re.findall(emoji_expression, tweets)\n",
    "freq_emojis = len(emojis)\n",
    "print(\"Emojis: \", freq_emojis)\n",
    "print(emojis)\n",
    "top_emojis = Counter(emojis).most_common(10)\n",
    "print(\"##############################################\")\n",
    "print(\"Top 10 emojis\")\n",
    "top_emojis"
   ]
  },
  {
   "cell_type": "markdown",
   "metadata": {},
   "source": [
    "## Results"
   ]
  },
  {
   "cell_type": "code",
   "execution_count": 10,
   "metadata": {},
   "outputs": [],
   "source": [
    "results = {\n",
    "    'String' : ['Hashtags','Users','URLs','Times','Emoticons','Emojis'],\n",
    "    'Total Frequency' : [freq_hashtags,freq_users,freq_urls,freq_times,freq_emoticons,freq_emojis],\n",
    "    'Top 10' : [top_hashtags,top_users,top_urls,top_times,top_emoticons,top_emojis]\n",
    "}"
   ]
  },
  {
   "cell_type": "code",
   "execution_count": 11,
   "metadata": {},
   "outputs": [
    {
     "data": {
      "text/html": [
       "<div>\n",
       "<style scoped>\n",
       "    .dataframe tbody tr th:only-of-type {\n",
       "        vertical-align: middle;\n",
       "    }\n",
       "\n",
       "    .dataframe tbody tr th {\n",
       "        vertical-align: top;\n",
       "    }\n",
       "\n",
       "    .dataframe thead th {\n",
       "        text-align: right;\n",
       "    }\n",
       "</style>\n",
       "<table border=\"1\" class=\"dataframe\">\n",
       "  <thead>\n",
       "    <tr style=\"text-align: right;\">\n",
       "      <th></th>\n",
       "      <th>String</th>\n",
       "      <th>Total Frequency</th>\n",
       "      <th>Top 10</th>\n",
       "    </tr>\n",
       "  </thead>\n",
       "  <tbody>\n",
       "    <tr>\n",
       "      <th>0</th>\n",
       "      <td>Hashtags</td>\n",
       "      <td>298</td>\n",
       "      <td>[(#UnidosTodosX, 26), (#DeZurdaTeam, 26), (#Gr...</td>\n",
       "    </tr>\n",
       "    <tr>\n",
       "      <th>1</th>\n",
       "      <td>Users</td>\n",
       "      <td>194</td>\n",
       "      <td>[(@petrogustavo, 7), (@DeZurdaTeam_, 6), (@JMi...</td>\n",
       "    </tr>\n",
       "    <tr>\n",
       "      <th>2</th>\n",
       "      <td>URLs</td>\n",
       "      <td>8</td>\n",
       "      <td>[(https://www.eldiario.es/1_a4fa72?utm_campaig...</td>\n",
       "    </tr>\n",
       "    <tr>\n",
       "      <th>3</th>\n",
       "      <td>Times</td>\n",
       "      <td>37</td>\n",
       "      <td>[(3horas, 4), (23:58, 4), (17:45, 3), (11:11, ...</td>\n",
       "    </tr>\n",
       "    <tr>\n",
       "      <th>4</th>\n",
       "      <td>Emoticons</td>\n",
       "      <td>145</td>\n",
       "      <td>[(xp, 76), (xd, 19), (xo, 15), (:3, 8), (xs, 6...</td>\n",
       "    </tr>\n",
       "    <tr>\n",
       "      <th>5</th>\n",
       "      <td>Emojis</td>\n",
       "      <td>1059</td>\n",
       "      <td>[(😭, 67), (🥺, 54), (🏻, 38), (🙏, 36), (🤣, 28), ...</td>\n",
       "    </tr>\n",
       "  </tbody>\n",
       "</table>\n",
       "</div>"
      ],
      "text/plain": [
       "      String  Total Frequency  \\\n",
       "0   Hashtags              298   \n",
       "1      Users              194   \n",
       "2       URLs                8   \n",
       "3      Times               37   \n",
       "4  Emoticons              145   \n",
       "5     Emojis             1059   \n",
       "\n",
       "                                              Top 10  \n",
       "0  [(#UnidosTodosX, 26), (#DeZurdaTeam, 26), (#Gr...  \n",
       "1  [(@petrogustavo, 7), (@DeZurdaTeam_, 6), (@JMi...  \n",
       "2  [(https://www.eldiario.es/1_a4fa72?utm_campaig...  \n",
       "3  [(3horas, 4), (23:58, 4), (17:45, 3), (11:11, ...  \n",
       "4  [(xp, 76), (xd, 19), (xo, 15), (:3, 8), (xs, 6...  \n",
       "5  [(😭, 67), (🥺, 54), (🏻, 38), (🙏, 36), (🤣, 28), ...  "
      ]
     },
     "execution_count": 11,
     "metadata": {},
     "output_type": "execute_result"
    }
   ],
   "source": [
    "df_results = pd.DataFrame(results)\n",
    "df_results"
   ]
  },
  {
   "cell_type": "code",
   "execution_count": null,
   "metadata": {},
   "outputs": [],
   "source": []
  }
 ],
 "metadata": {
  "kernelspec": {
   "display_name": "Python 3",
   "language": "python",
   "name": "python3"
  },
  "language_info": {
   "codemirror_mode": {
    "name": "ipython",
    "version": 3
   },
   "file_extension": ".py",
   "mimetype": "text/x-python",
   "name": "python",
   "nbconvert_exporter": "python",
   "pygments_lexer": "ipython3",
   "version": "3.12.1"
  }
 },
 "nbformat": 4,
 "nbformat_minor": 2
}
