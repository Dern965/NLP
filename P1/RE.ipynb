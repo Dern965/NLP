{
 "cells": [
  {
   "cell_type": "code",
   "execution_count": 37,
   "metadata": {},
   "outputs": [],
   "source": [
    "import pandas as pd\n",
    "import re\n",
    "from collections import Counter"
   ]
  },
  {
   "cell_type": "markdown",
   "metadata": {},
   "source": [
    "• Use regular expressions to extract the following strings in the corpus\n",
    "of tweets:\n",
    "\n",
    "• Hashtags\n",
    "\n",
    "• Users\n",
    "\n",
    "• URLs\n",
    "\n",
    "• Time (18:30, 5 hrs, 3 am, and any other valid format you can find)\n",
    "\n",
    "• Emoticons in ascii :D, :), :p, and any other you can find\n",
    "\n",
    "• Emojis (https://unicode.org/emoji/charts/full-emoji-list.html)"
   ]
  },
  {
   "cell_type": "code",
   "execution_count": 38,
   "metadata": {},
   "outputs": [],
   "source": [
    "datos = pd.read_csv('tweets.csv')\n",
    "tweets = datos[\"text\"].str.cat(sep=' ')\n"
   ]
  },
  {
   "cell_type": "markdown",
   "metadata": {},
   "source": [
    "### Hashtags"
   ]
  },
  {
   "cell_type": "code",
   "execution_count": 39,
   "metadata": {},
   "outputs": [
    {
     "name": "stdout",
     "output_type": "stream",
     "text": [
      "298\n"
     ]
    }
   ],
   "source": [
    "hashtag = re.compile(r'#\\w+')\n",
    "result = hashtag.findall(tweets)\n",
    "freq_hashtag = len(result)\n",
    "print(freq_hashtag)"
   ]
  },
  {
   "cell_type": "code",
   "execution_count": 40,
   "metadata": {},
   "outputs": [
    {
     "data": {
      "text/plain": [
       "[('#UnidosTodosX', 26),\n",
       " ('#DeZurdaTeam', 26),\n",
       " ('#GranHermano', 21),\n",
       " ('#granhermano', 9),\n",
       " ('#gelp', 7),\n",
       " ('#OTDirecto5E', 4),\n",
       " ('#gh23', 4),\n",
       " ('#NadieComoTú', 3),\n",
       " ('#MicroCuento', 3),\n",
       " ('#Bailando2023', 3)]"
      ]
     },
     "execution_count": 40,
     "metadata": {},
     "output_type": "execute_result"
    }
   ],
   "source": [
    "hashtags = Counter(result)\n",
    "top_hashtags = hashtags.most_common(10)\n",
    "top_hashtags"
   ]
  },
  {
   "cell_type": "markdown",
   "metadata": {},
   "source": [
    "### Users"
   ]
  },
  {
   "cell_type": "code",
   "execution_count": 41,
   "metadata": {},
   "outputs": [
    {
     "name": "stdout",
     "output_type": "stream",
     "text": [
      "194\n"
     ]
    }
   ],
   "source": [
    "user = re.compile(r'@\\w+')\n",
    "result = user.findall(tweets)\n",
    "freq_user = len(result)\n",
    "print(freq_user)"
   ]
  },
  {
   "cell_type": "code",
   "execution_count": 42,
   "metadata": {},
   "outputs": [
    {
     "data": {
      "text/plain": [
       "[('@petrogustavo', 7),\n",
       " ('@DeZurdaTeam_', 6),\n",
       " ('@JMilei', 4),\n",
       " ('@biobio', 3),\n",
       " ('@radiocarab', 3),\n",
       " ('@TTISantiago', 3),\n",
       " ('@mop_chile', 3),\n",
       " ('@mop_rm', 3),\n",
       " ('@MabelLaraNews', 2),\n",
       " ('@_somosmadrid', 2)]"
      ]
     },
     "execution_count": 42,
     "metadata": {},
     "output_type": "execute_result"
    }
   ],
   "source": [
    "users = Counter(result)\n",
    "top_users = users.most_common(10)\n",
    "top_users"
   ]
  },
  {
   "cell_type": "markdown",
   "metadata": {},
   "source": [
    "### URL's"
   ]
  },
  {
   "cell_type": "code",
   "execution_count": 43,
   "metadata": {},
   "outputs": [
    {
     "name": "stdout",
     "output_type": "stream",
     "text": [
      "8\n"
     ]
    }
   ],
   "source": [
    "url = re.compile(r'http[s]?://[^\\s]+')\n",
    "result = url.findall(tweets)\n",
    "freq_url = len(result)\n",
    "print(freq_url)\n",
    "urls = result"
   ]
  },
  {
   "cell_type": "markdown",
   "metadata": {},
   "source": [
    "### Time"
   ]
  },
  {
   "cell_type": "code",
   "execution_count": 44,
   "metadata": {},
   "outputs": [
    {
     "name": "stdout",
     "output_type": "stream",
     "text": [
      "['23:58', '23:58', '23:58', '23:58', '17:45', '17:45', '00:17', '11:11', '11:11', '17:45', '00:01']\n",
      "11\n"
     ]
    }
   ],
   "source": [
    "time = re.compile(r'(?<!Salmo\\s)(?:[01][0-9]|2[0-3]):[0-5][0-9]')\n",
    "result = time.findall(tweets)\n",
    "print(result)\n",
    "print(len(result))"
   ]
  },
  {
   "cell_type": "markdown",
   "metadata": {},
   "source": [
    "### Emojis"
   ]
  },
  {
   "cell_type": "code",
   "execution_count": 45,
   "metadata": {},
   "outputs": [
    {
     "name": "stdout",
     "output_type": "stream",
     "text": [
      "['😒', '🏽', '🐷', '🐽', '🔥', '🐶', '🙏', '🙏', '🙏', '😤', '😤', '🏽', '💚', '😭', '💔', '😭', '😭', '😭', '😭', '😭', '😭', '😔', '😨', '😎', '😪', '👍', '😜', '😔', '😫', '🕯', '🕯', '🕯', '🕯', '💕', '💕', '🏻', '🚬', '🚬', '😲', '🚬', '🚬', '👍', '😒', '🙂', '😵', '💫', '😏', '🌍', '😭', '😭', '😒', '😘', '😏', '😞', '😥', '👏', '🙄', '😒', '💥', '😐', '🚬', '👊', '🏽', '👏', '😣', '💘', '🌊', '🙃', '😅', '😷', '😊', '💋', '😂', '😂', '😂', '😩', '🙏', '🏽', '🏽', '💋', '😂', '😂', '😂', '😭', '👣', '😪', '😂', '💖', '😂', '👀', '🏻', '😫', '😓', '💀', '💀', '😭', '👌', '👍', '🏽', '😩', '😩', '😴', '😴', '💔', '🙃', '😅', '😩', '😔', '😒', '💋', '😂', '😂', '😂', '🏃', '🏽', '😮', '💨', '💀', '👍', '🏻', '😭', '😭', '😭', '😆', '😂', '🙄', '😭', '😭', '😭', '😭', '😾', '😾', '😾', '😂', '🖤', '👀', '🎶', '🎶', '🙏', '🏻', '🏼', '🙏', '🏻', '💔', '🏼', '👁', '👌', '😈', '😈', '😈', '👏', '🏼', '😕', '💛', '💔', '😔', '😶', '😛', '👍', '🏻', '🙌', '🏻', '🎀', '🚬', '🚬', '🍳', '🌚', '🏻', '😹', '😞', '😵', '💫', '😭', '😭', '😭', '😥', '😥', '😢', '😏', '🏻', '🏻', '😭', '😕', '👌', '😈', '😈', '😈', '👏', '🏼', '👌', '😈', '😈', '😈', '👏', '🏼', '🚩', '🚩', '😔', '🔋', '💡', '💛', '💔', '🕯', '🕯', '🕯', '🙏', '🏽', '👍', '🏻', '👌', '😈', '😈', '😈', '👏', '🏼', '😭', '😭', '😭', '😫', '😭', '😭', '😭', '🌧', '🌧', '🏼', '😭', '😭', '🛸', '😬', '🎵', '😇', '😴', '😭', '😭', '😭', '😭', '😭', '😩', '😩', '💔', '💔', '👏', '🙄', '🙄', '😭', '😭', '😭', '😭', '😭', '😍', '😍', '😍', '🏻', '😍', '😍', '💕', '💔', '😔', '😢', '🙏', '🏻', '🙏', '🏻', '🙏', '🏻', '🏿', '👑', '🏼', '💊', '😭', '😭', '📈', '💼', '💡', '🚀', '💪', '🚀', '😂', '💘', '🛠', '😪', '🔥', '🔥', '🔥', '🔥', '🏽', '🙃', '🙃', '🙃', '😂', '🙏', '🏻', '🌧', '🌧', '🐯', '🔥', '🔥', '📲', '🗨', '😭', '😭', '👏', '😹', '😭', '😌', '🏔', '🏖', '💆', '🏼', '🙏', '🏻', '😕', '🍾', '🙄', '😒', '🛐', '🔴', '🙂', '🙃', '😡', '😞', '🚌', '🌊', '🐋', '💫', '💕', '🏻', '💙', '🙏', '🏼', '🙏', '🏼', '😍', '😍', '🎸', '💭', '😮', '💨', '😋', '🙏', '🙏', '🕊', '🙏', '🏼', '💙', '🙌', '🙌', '🌈', '🍂', '😩', '🌺', '🙏', '🏽', '😮', '💨', '😍', '😍', '😍', '🏻', '😍', '😍', '🙏', '🏻', '😆', '👍', '😍', '🏾', '😬', '💵', '😝', '😻', '🛠', '😍', '🎶', '🏻', '😌', '🙌', '🏽', '👑', '👑', '🙌', '🏽', '🙏', '🏾', '😾', '🎂', '🎂', '😊', '🙏', '🏻', '💕', '🙌', '🏾', '🙌', '🏻', '💚', '💋', '💸', '🙏', '🏼', '💗', '🙌', '😍', '🏾', '😬', '💵', '😝', '😻', '🍃', '😎', '🙌', '🏽', '👑', '👑', '🙌', '🏽', '🙏', '🏾', '😾', '💀', '🏼', '💋', '🙁', '😤', '🖤', '🏽', '🙏', '🙏', '🌧', '🌧', '💁', '🏽', '😝', '😭', '😭', '😵', '💫', '😅', '🏽', '🏻', '👏', '🏻', '😟', '👍', '🏼', '🏽', '🙃', '🙃', '🙃', '💀', '💀', '💀', '😞', '🙌', '🙌', '🍀', '🍀', '🙌', '😔', '🙏', '🙏', '😤', '😂', '🚗', '🚙', '🕐', '💪', '🏻', '💪', '🏽', '🏆', '😴', '😵', '💫', '😅', '🏽', '🏻', '👏', '🏻', '😟', '🔟', '🔟', '💪', '🏻', '😎', '😶', '🍒', '🚗', '🐊', '🚬', '🔥', '💧', '🍃', '💪', '🌟', '💸', '😩', '💓', '🙏', '🏼', '😭', '😭', '😭', '😭', '😭', '😭', '😭', '😒', '🙏', '🏻', '💁', '🙌', '🏽', '🌹', '😂', '😂', '😂', '😂', '😂', '😂', '😂', '🙏', '😝', '😂', '💜', '💜', '😞', '🙏', '👍', '🏳', '🌈', '🏼', '🖤', '🔱', '💥', '👑', '🏻', '😵', '💫', '😮', '💨', '😓', '🙏', '🏻', '🙊', '👀', '💗', '😑', '😭', '🙏', '🏻', '🏳', '🏳', '🌈', '🚬', '🚬', '😔', '💥', '🚀', '🛸', '🌌', '👽', '💥', '🔓', '🕵', '💣', '🕵', '🌩', '🔒', '🔒', '🕰', '👼', '😳', '😳', '😳', '👇', '🔥', '😭', '😭', '😭', '😔', '😭', '💔', '🏳', '🏳', '🌈', '😣', '😣', '😵', '💫', '🛐', '🙌', '😭', '😔', '🎄', '🎁', '🚨', '😢', '🕊', '😿', '🏻', '🏽', '🙊', '😍', '😍', '😭', '🎵', '🎶', '🎵', '🎶', '🏻', '🙌', '😭', '😔', '💩', '😂', '💙', '😃', '😈', '🙏', '🏼', '🙏', '🏻', '😳', '😳', '😳', '🖤', '👍', '🏼', '😭', '😭', '🎄', '🎁', '🚨', '😎', '👉', '🏻', '🙄', '😭', '🙄', '🙄', '😅', '😖', '😖', '🔥', '🔼', '👏', '🏼', '😭', '😌', '😶', '😛', '👍', '🏻', '👑', '💜', '🌟', '🙏', '😉', '🙃', '😭', '💅', '🏼']\n",
      "663\n"
     ]
    }
   ],
   "source": [
    "emoji = re.compile(r'[\\U0001F600-\\U0001F64F\\U0001F300-\\U0001F5FF\\U0001F680-\\U0001F6FF\\U0001F700-\\U0001F77F\\U0001F780-\\U0001F7FF]')\n",
    "result = emoji.findall(tweets)\n",
    "print(result)\n",
    "freq_emoji = len(result)\n",
    "print(freq_emoji)"
   ]
  },
  {
   "cell_type": "code",
   "execution_count": 46,
   "metadata": {},
   "outputs": [
    {
     "data": {
      "text/plain": [
       "[('😭', 67),\n",
       " ('🏻', 38),\n",
       " ('🙏', 36),\n",
       " ('😂', 25),\n",
       " ('🏽', 22),\n",
       " ('🏼', 21),\n",
       " ('😍', 17),\n",
       " ('🙌', 16),\n",
       " ('😈', 13),\n",
       " ('😔', 11)]"
      ]
     },
     "execution_count": 46,
     "metadata": {},
     "output_type": "execute_result"
    }
   ],
   "source": [
    "emojis = Counter(result)\n",
    "top_emojis = emojis.most_common(10)\n",
    "top_emojis"
   ]
  },
  {
   "cell_type": "markdown",
   "metadata": {},
   "source": [
    "## Results"
   ]
  },
  {
   "cell_type": "code",
   "execution_count": 47,
   "metadata": {},
   "outputs": [],
   "source": [
    "data ={\n",
    "    'String' : ['Hashtags', 'Users', 'URLs', 'Time', 'Emoticons', 'Emojis'],\n",
    "    'Total frequency' : [freq_hashtag, freq_user, freq_url, 'A1', 'A1', freq_emoji],\n",
    "    'Top 10': [top_hashtags, top_users, urls, result, 'A1', top_emojis]\n",
    "}"
   ]
  },
  {
   "cell_type": "code",
   "execution_count": 48,
   "metadata": {},
   "outputs": [
    {
     "data": {
      "text/html": [
       "<div>\n",
       "<style scoped>\n",
       "    .dataframe tbody tr th:only-of-type {\n",
       "        vertical-align: middle;\n",
       "    }\n",
       "\n",
       "    .dataframe tbody tr th {\n",
       "        vertical-align: top;\n",
       "    }\n",
       "\n",
       "    .dataframe thead th {\n",
       "        text-align: right;\n",
       "    }\n",
       "</style>\n",
       "<table border=\"1\" class=\"dataframe\">\n",
       "  <thead>\n",
       "    <tr style=\"text-align: right;\">\n",
       "      <th></th>\n",
       "      <th>String</th>\n",
       "      <th>Total frequency</th>\n",
       "      <th>Top 10</th>\n",
       "    </tr>\n",
       "  </thead>\n",
       "  <tbody>\n",
       "    <tr>\n",
       "      <th>0</th>\n",
       "      <td>Hashtags</td>\n",
       "      <td>298</td>\n",
       "      <td>[(#UnidosTodosX, 26), (#DeZurdaTeam, 26), (#Gr...</td>\n",
       "    </tr>\n",
       "    <tr>\n",
       "      <th>1</th>\n",
       "      <td>Users</td>\n",
       "      <td>194</td>\n",
       "      <td>[(@petrogustavo, 7), (@DeZurdaTeam_, 6), (@JMi...</td>\n",
       "    </tr>\n",
       "    <tr>\n",
       "      <th>2</th>\n",
       "      <td>URLs</td>\n",
       "      <td>8</td>\n",
       "      <td>[https://elfaro.net/es/202312/columnas/27191/e...</td>\n",
       "    </tr>\n",
       "    <tr>\n",
       "      <th>3</th>\n",
       "      <td>Time</td>\n",
       "      <td>A1</td>\n",
       "      <td>[😒, 🏽, 🐷, 🐽, 🔥, 🐶, 🙏, 🙏, 🙏, 😤, 😤, 🏽, 💚, 😭, 💔, ...</td>\n",
       "    </tr>\n",
       "    <tr>\n",
       "      <th>4</th>\n",
       "      <td>Emoticons</td>\n",
       "      <td>A1</td>\n",
       "      <td>A1</td>\n",
       "    </tr>\n",
       "    <tr>\n",
       "      <th>5</th>\n",
       "      <td>Emojis</td>\n",
       "      <td>663</td>\n",
       "      <td>[(😭, 67), (🏻, 38), (🙏, 36), (😂, 25), (🏽, 22), ...</td>\n",
       "    </tr>\n",
       "  </tbody>\n",
       "</table>\n",
       "</div>"
      ],
      "text/plain": [
       "      String Total frequency  \\\n",
       "0   Hashtags             298   \n",
       "1      Users             194   \n",
       "2       URLs               8   \n",
       "3       Time              A1   \n",
       "4  Emoticons              A1   \n",
       "5     Emojis             663   \n",
       "\n",
       "                                              Top 10  \n",
       "0  [(#UnidosTodosX, 26), (#DeZurdaTeam, 26), (#Gr...  \n",
       "1  [(@petrogustavo, 7), (@DeZurdaTeam_, 6), (@JMi...  \n",
       "2  [https://elfaro.net/es/202312/columnas/27191/e...  \n",
       "3  [😒, 🏽, 🐷, 🐽, 🔥, 🐶, 🙏, 🙏, 🙏, 😤, 😤, 🏽, 💚, 😭, 💔, ...  \n",
       "4                                                 A1  \n",
       "5  [(😭, 67), (🏻, 38), (🙏, 36), (😂, 25), (🏽, 22), ...  "
      ]
     },
     "execution_count": 48,
     "metadata": {},
     "output_type": "execute_result"
    }
   ],
   "source": [
    "df_Result = pd.DataFrame(data)\n",
    "df_Result"
   ]
  },
  {
   "cell_type": "code",
   "execution_count": null,
   "metadata": {},
   "outputs": [],
   "source": []
  }
 ],
 "metadata": {
  "kernelspec": {
   "display_name": "Python 3",
   "language": "python",
   "name": "python3"
  },
  "language_info": {
   "codemirror_mode": {
    "name": "ipython",
    "version": 3
   },
   "file_extension": ".py",
   "mimetype": "text/x-python",
   "name": "python",
   "nbconvert_exporter": "python",
   "pygments_lexer": "ipython3",
   "version": "3.12.1"
  }
 },
 "nbformat": 4,
 "nbformat_minor": 2
}
