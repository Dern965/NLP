{
 "cells": [
  {
   "cell_type": "code",
   "execution_count": 1,
   "metadata": {},
   "outputs": [],
   "source": [
    "import pandas as pd\n",
    "import re\n",
    "from collections import Counter"
   ]
  },
  {
   "cell_type": "markdown",
   "metadata": {},
   "source": [
    "• Use regular expressions to extract the following strings in the corpus\n",
    "of tweets:\n",
    "\n",
    "• Hashtags\n",
    "\n",
    "• Users\n",
    "\n",
    "• URLs\n",
    "\n",
    "• Time (18:30, 5 hrs, 3 am, and any other valid format you can find)\n",
    "\n",
    "• Emoticons in ascii :D, :), :p, and any other you can find\n",
    "\n",
    "• Emojis (https://unicode.org/emoji/charts/full-emoji-list.html)"
   ]
  },
  {
   "cell_type": "code",
   "execution_count": 2,
   "metadata": {},
   "outputs": [],
   "source": [
    "datos = pd.read_csv('tweets.csv')\n",
    "tweets = datos[\"text\"].str.cat(sep=' ')\n"
   ]
  },
  {
   "cell_type": "markdown",
   "metadata": {},
   "source": [
    "### Hashtags"
   ]
  },
  {
   "cell_type": "code",
   "execution_count": 3,
   "metadata": {},
   "outputs": [
    {
     "name": "stdout",
     "output_type": "stream",
     "text": [
      "298\n"
     ]
    }
   ],
   "source": [
    "hashtag = re.compile(r'#\\w+')\n",
    "result = hashtag.findall(tweets)\n",
    "freq_hashtag = len(result)\n",
    "print(freq_hashtag)"
   ]
  },
  {
   "cell_type": "code",
   "execution_count": 4,
   "metadata": {},
   "outputs": [
    {
     "data": {
      "text/plain": [
       "[('#UnidosTodosX', 26),\n",
       " ('#DeZurdaTeam', 26),\n",
       " ('#GranHermano', 21),\n",
       " ('#granhermano', 9),\n",
       " ('#gelp', 7),\n",
       " ('#OTDirecto5E', 4),\n",
       " ('#gh23', 4),\n",
       " ('#NadieComoTú', 3),\n",
       " ('#MicroCuento', 3),\n",
       " ('#Bailando2023', 3)]"
      ]
     },
     "execution_count": 4,
     "metadata": {},
     "output_type": "execute_result"
    }
   ],
   "source": [
    "hashtags = Counter(result)\n",
    "top_hashtags = hashtags.most_common(10)\n",
    "top_hashtags"
   ]
  },
  {
   "cell_type": "markdown",
   "metadata": {},
   "source": [
    "### Users"
   ]
  },
  {
   "cell_type": "code",
   "execution_count": 5,
   "metadata": {},
   "outputs": [
    {
     "name": "stdout",
     "output_type": "stream",
     "text": [
      "194\n"
     ]
    }
   ],
   "source": [
    "user = re.compile(r'@\\w+')\n",
    "result = user.findall(tweets)\n",
    "freq_user = len(result)\n",
    "print(freq_user)"
   ]
  },
  {
   "cell_type": "code",
   "execution_count": 6,
   "metadata": {},
   "outputs": [
    {
     "data": {
      "text/plain": [
       "[('@petrogustavo', 7),\n",
       " ('@DeZurdaTeam_', 6),\n",
       " ('@JMilei', 4),\n",
       " ('@biobio', 3),\n",
       " ('@radiocarab', 3),\n",
       " ('@TTISantiago', 3),\n",
       " ('@mop_chile', 3),\n",
       " ('@mop_rm', 3),\n",
       " ('@MabelLaraNews', 2),\n",
       " ('@_somosmadrid', 2)]"
      ]
     },
     "execution_count": 6,
     "metadata": {},
     "output_type": "execute_result"
    }
   ],
   "source": [
    "users = Counter(result)\n",
    "top_users = users.most_common(10)\n",
    "top_users"
   ]
  },
  {
   "cell_type": "markdown",
   "metadata": {},
   "source": [
    "### URL's"
   ]
  },
  {
   "cell_type": "code",
   "execution_count": 7,
   "metadata": {},
   "outputs": [
    {
     "name": "stdout",
     "output_type": "stream",
     "text": [
      "8\n"
     ]
    },
    {
     "data": {
      "text/plain": [
       "['https://elfaro.net/es/202312/columnas/27191/el-voto-de-la-frustracion-gano-el-tour-electoral-de-2023',\n",
       " 'https://www.eldiario.es/1_a4fa72?utm_campaign=botonera-share&utm_medium=social&utm_source=twitter',\n",
       " 'https://www.eldiario.es/1_a4fa72?utm_campaign=botonera-share&utm_medium=social&utm_source=twitter',\n",
       " 'https://www.youtube.com/watch?v=1QvBbg38UY8&ab_channel=ElMostrador',\n",
       " 'https://nitter.perennialte.ch/MaxKaiser75/status/1743261455326007754/video/1',\n",
       " 'https://signal.group/#CjQKIAL1PfYMtji-3OMw24eFifKyZSI9bNbHpdvfWONAMrnvEhAgxrDIgXSX8-35VZTa6H_n',\n",
       " 'https://t.me/tierrasant',\n",
       " 'https://twitter.com/MaxKaiser75/status/1743261455326007754/video/1']"
      ]
     },
     "execution_count": 7,
     "metadata": {},
     "output_type": "execute_result"
    }
   ],
   "source": [
    "url = re.compile(r'http[s]?://[^\\s]+')\n",
    "result = url.findall(tweets)\n",
    "freq_url = len(result)\n",
    "print(freq_url)\n",
    "urls = result\n",
    "urls"
   ]
  },
  {
   "cell_type": "markdown",
   "metadata": {},
   "source": [
    "### Time"
   ]
  },
  {
   "cell_type": "code",
   "execution_count": 8,
   "metadata": {},
   "outputs": [
    {
     "name": "stdout",
     "output_type": "stream",
     "text": [
      "['23:58', '23:58', '23:58', '23:58', '17:45', '17:45', '00:17', '11:11', '11:11', '17:45', '00:01']\n"
     ]
    }
   ],
   "source": [
    "time = re.compile(r'(?<!Salmo\\s)(?:[01][0-9]|2[0-3]):[0-5][0-9]')\n",
    "result = time.findall(tweets)\n",
    "freq_time =len(result)\n",
    "print(result)"
   ]
  },
  {
   "cell_type": "code",
   "execution_count": 9,
   "metadata": {},
   "outputs": [
    {
     "data": {
      "text/plain": [
       "[('23:58', 4), ('17:45', 3), ('11:11', 2), ('00:17', 1), ('00:01', 1)]"
      ]
     },
     "execution_count": 9,
     "metadata": {},
     "output_type": "execute_result"
    }
   ],
   "source": [
    "times = Counter(result)\n",
    "top_times = times.most_common(10)\n",
    "top_times"
   ]
  },
  {
   "cell_type": "markdown",
   "metadata": {},
   "source": [
    "### Emoticons"
   ]
  },
  {
   "cell_type": "code",
   "execution_count": 10,
   "metadata": {},
   "outputs": [
    {
     "name": "stdout",
     "output_type": "stream",
     "text": [
      "145\n"
     ]
    },
    {
     "data": {
      "text/plain": [
       "['xd',\n",
       " 'xp',\n",
       " ':)',\n",
       " ':))',\n",
       " 'xp',\n",
       " 'xp',\n",
       " ':))',\n",
       " 'xp',\n",
       " 'xo',\n",
       " 'xp',\n",
       " 'xd',\n",
       " 'xd',\n",
       " 'xd',\n",
       " 'xd',\n",
       " 'xp',\n",
       " 'xo',\n",
       " 'xd',\n",
       " 'xp',\n",
       " 'xo',\n",
       " 'xp',\n",
       " 'xp',\n",
       " 'xs',\n",
       " 'xd',\n",
       " 'xp',\n",
       " 'xp',\n",
       " 'xp',\n",
       " 'xd',\n",
       " ':(',\n",
       " 'xp',\n",
       " 'xo',\n",
       " 'Xo',\n",
       " 'xo',\n",
       " 'xD',\n",
       " 'Xo',\n",
       " 'xp',\n",
       " 'xp',\n",
       " ':))',\n",
       " 'xp',\n",
       " 'xp',\n",
       " 'xp',\n",
       " '=s',\n",
       " 'xp',\n",
       " 'xo',\n",
       " 'xp',\n",
       " 'xd',\n",
       " 'xp',\n",
       " 'Xo',\n",
       " '=s',\n",
       " 'xp',\n",
       " ':3',\n",
       " ':)',\n",
       " 'xp',\n",
       " 'xo',\n",
       " 'xo',\n",
       " 'xp',\n",
       " 'xp',\n",
       " 'xp',\n",
       " 'xp',\n",
       " 'xo',\n",
       " 'xo',\n",
       " ':)',\n",
       " 'xp',\n",
       " 'xp',\n",
       " ':(',\n",
       " 'xs',\n",
       " 'xp',\n",
       " 'xp',\n",
       " 'xd',\n",
       " 'xd',\n",
       " 'xo',\n",
       " ':3',\n",
       " 'xd',\n",
       " 'xd',\n",
       " 'xd',\n",
       " 'xd',\n",
       " 'xp',\n",
       " 'xo',\n",
       " ':3',\n",
       " 'xp',\n",
       " 'xp',\n",
       " 'xp',\n",
       " 'xp',\n",
       " 'xp',\n",
       " 'xd',\n",
       " ':)',\n",
       " 'xp',\n",
       " ':3',\n",
       " 'xd',\n",
       " 'xp',\n",
       " ':3',\n",
       " 'xp',\n",
       " 'xp',\n",
       " 'xp',\n",
       " 'xp',\n",
       " 'xp',\n",
       " 'xp',\n",
       " 'xp',\n",
       " 'xp',\n",
       " ':3',\n",
       " 'xp',\n",
       " 'xp',\n",
       " 'xp',\n",
       " 'xo',\n",
       " 'xp',\n",
       " ':3',\n",
       " 'xp',\n",
       " ':p',\n",
       " 'xp',\n",
       " 'xs',\n",
       " 'xs',\n",
       " 'xp',\n",
       " 'xP',\n",
       " 'xp',\n",
       " 'xp',\n",
       " 'xp',\n",
       " 'xp',\n",
       " 'xp',\n",
       " 'XS',\n",
       " 'XD',\n",
       " 'xD',\n",
       " 'xp',\n",
       " 'xp',\n",
       " 'xp',\n",
       " 'xp',\n",
       " 'xp',\n",
       " 'XS',\n",
       " 'xp',\n",
       " 'xp',\n",
       " 'xp',\n",
       " 'xp',\n",
       " 'xo',\n",
       " 'xp',\n",
       " 'xo',\n",
       " 'xd',\n",
       " ':3',\n",
       " 'xp',\n",
       " 'xp',\n",
       " 'xp',\n",
       " 'xp',\n",
       " 'xp',\n",
       " 'xs',\n",
       " 'xs',\n",
       " 'xp',\n",
       " 'xp',\n",
       " 'xd']"
      ]
     },
     "execution_count": 10,
     "metadata": {},
     "output_type": "execute_result"
    }
   ],
   "source": [
    "emoticon = re.compile(r'(?::|;|=|X|x)(?:-)?(?:[DPdpOoSs3]|[()]{1,2})')\n",
    "result = emoticon.findall(tweets)\n",
    "freq_emoticon = len(result)\n",
    "print(freq_emoticon)\n",
    "emoticones = result\n",
    "emoticones"
   ]
  },
  {
   "cell_type": "code",
   "execution_count": 11,
   "metadata": {},
   "outputs": [
    {
     "data": {
      "text/plain": [
       "[('xp', 76),\n",
       " ('xd', 19),\n",
       " ('xo', 15),\n",
       " (':3', 8),\n",
       " ('xs', 6),\n",
       " (':)', 4),\n",
       " (':))', 3),\n",
       " ('Xo', 3),\n",
       " (':(', 2),\n",
       " ('xD', 2)]"
      ]
     },
     "execution_count": 11,
     "metadata": {},
     "output_type": "execute_result"
    }
   ],
   "source": [
    "emoticons = Counter(result)\n",
    "top_emoticons = emoticons.most_common(10)\n",
    "top_emoticons"
   ]
  },
  {
   "cell_type": "markdown",
   "metadata": {},
   "source": [
    "### Emojis"
   ]
  },
  {
   "cell_type": "code",
   "execution_count": 12,
   "metadata": {},
   "outputs": [
    {
     "name": "stdout",
     "output_type": "stream",
     "text": [
      "['😒', '🥳', '🥹', '🫶', '🏽', '🤬', '🐷', '🐽', '🔥', '🐶', '🙏', '🙏', '🙏', '🥰', '🤦', '😤', '😤', '🥳', '🥹', '🫶', '🏽', '💚', '🥺', '😭', '💔', '😭', '😭', '😭', '😭', '😭', '😭', '😔', '😨', '🤡', '😎', '😪', '👍', '😜', '😔', '😫', '🕯', '🕯', '🕯', '🕯', '💕', '💕', '🫵', '🏻', '🤡', '🤡', '🚬', '🚬', '😲', '🤔', '🤯', '🤣', '🥹', '🚬', '🚬', '👍', '😒', '🤗', '🙂', '😵', '💫', '😏', '🌍', '😭', '😭', '🩷', '🩷', '🩷', '😒', '😘', '😏', '😞', '😥', '👏', '🙄', '😒', '🥺', '🤦', '🩹', '💥', '😐', '🚬', '🤭', '🥹', '🩹', '👊', '🏽', '👏', '😣', '🩹', '🤒', '💘', '🌊', '🙃', '😅', '😷', '🥶', '🦕', '😊', '💋', '🤷', '😂', '🤷', '😂', '😂', '😩', '🤣', '🫤', '🙏', '🏽', '🫶', '🏽', '💋', '🤷', '😂', '🤷', '😂', '😂', '😭', '👣', '😪', '😂', '💖', '😂', '🤣', '👀', '🫶', '🏻', '😫', '😓', '💀', '💀', '😭', '👌', '👍', '🏽', '😩', '😩', '😴', '😴', '🥺', '💔', '🙃', '😅', '🥲', '🥲', '🥲', '🥲', '😩', '🤣', '🫤', '😔', '🥀', '😒', '💋', '🤷', '😂', '🤷', '😂', '😂', '🏃', '🏽', '😮', '💨', '💀', '🩹', '👍', '🏻', '🤷', '🥺', '😭', '😭', '😭', '🥴', '😆', '😂', '🤣', '🤦', '🙄', '😭', '😭', '😭', '😭', '😾', '😾', '😾', '😂', '🥹', '🥹', '🤍', '🖤', '👀', '🤬', '🎶', '🎶', '🥺', '🙏', '🏻', '🏼', '🙏', '🏻', '🥲', '💔', '🫶', '🏼', '👁', '👌', '😈', '😈', '😈', '👏', '🏼', '😕', '💛', '💔', '𝐏', '𝐫', '𝐞', '𝐫', '𝐫', '𝐞', '𝐬', '𝐞', '𝐫', '𝐯', '𝐚', '𝐬', '𝐥', '𝐢', '𝐛', '𝐞', '𝐫', '𝐚', '𝐫', '𝐞', '𝐦', '𝐨', '𝐬', '𝐞', '𝐥', '𝐩', '𝐞', '𝐫', '𝐬', '𝐨', '𝐧', '𝐚', '𝐣', '𝐞', '𝐝', '𝐢', '𝐬', '𝐩', '𝐨', '𝐧', '𝐢', '𝐛', '𝐥', '𝐞', '😔', '🤨', '😶', '😛', '👍', '🏻', '🙌', '🏻', '🎀', '🚬', '🚬', '🧑', '🍳', '🌚', '🤷', '🏻', '😹', '🇨', '🇴', '😞', '😵', '💫', '😭', '🥃', '🥃', '🥃', '🥃', '🥃', '😭', '😭', '😥', '😥', '😢', '😏', '🤍', '🏻', '🏻', '😭', '😕', '👌', '😈', '😈', '😈', '👏', '🏼', '🤔', '🤍', '👌', '😈', '😈', '😈', '👏', '🏼', '🚩', '🚩', '😔', '🔋', '💡', '💛', '💔', '🕯', '🕯', '🕯', '🥺', '🥺', '🥺', '🙏', '🏽', '🫡', '👍', '🏻', '👌', '😈', '😈', '😈', '👏', '🏼', '😭', '😭', '😭', '🥹', '🤣', '🫤', '😫', '😭', '😭', '😭', '🦒', '🫠', '🌧', '🌧', '🤣', '🤣', '🏼', '😭', '😭', '🛸', '😬', '🪽', '🎵', '😇', '😴', '😭', '😭', '😭', '😭', '😭', '😩', '😩', '💔', '💔', '🫤', '👏', '🧑', '🦲', '🙄', '🙄', '😭', '😭', '😭', '😭', '😭', '😍', '😍', '😍', '🥺', '🫶', '🏻', '😍', '😍', '💕', '💔', '😔', '😢', '🙏', '🏻', '🙏', '🏻', '🙏', '🏻', '🤪', '🏿', '👑', '🥺', '🫶', '🏼', '🩷', '🧡', '🇲', '🇽', '🇺', '🇸', '🧠', '💊', '🇯', '🇵', '😭', '😭', '📈', '💼', '💡', '🚀', '💪', '🤖', '🚀', '😂', '🤔', '💘', '🛠', '😪', '🔥', '🦁', '🦁', '🔥', '🔥', '🦁', '🦁', '🔥', '🥹', '🤣', '🫵', '🏽', '🩹', '🙃', '🙃', '🙃', '🥲', '🥲', '🤣', '😂', '🙏', '🏻', '🌧', '🌧', '🤣', '🤣', '🐯', '🔥', '🔥', '📲', '🗨', '😭', '😭', '👏', '🧑', '🦲', '🇵', '🇭', '🇨', '🇳', '🇺', '🇸', '😹', '😭', '😌', '🇳', '🇱', '🇪', '🇦', '🇨', '🇵', '🇮', '🇱', '🏔', '🏖', '💆', '🏼', '🙏', '🏻', '😕', '🥳', '🍾', '🙄', '😒', '🛐', '🔴', '🥹', '🙂', '🙃', '😡', '😞', '🫨', '🚌', '🌊', '🐋', '💫', '🥺', '🤍', '💕', '🦸', '🏻', '💙', '🤍', '🙏', '🏼', '🙏', '🏼', '🫶', '😍', '😍', '🦆', '🎸', '💭', '😮', '💨', '😋', '🥴', '🥰', '🙏', '🙏', '🕊', '🙏', '🏼', '💙', '🤝', '🙌', '🙌', '🌈', '🍂', '🥲', '🤡', '🥰', '🥺', '🫨', '🤣', '🤯', '😩', '🌺', '🙏', '🏽', '😮', '💨', '😍', '😍', '😍', '🥺', '🫶', '🏻', '😍', '😍', '🙏', '🏻', '🫠', '🫠', '🫠', '🥺', '🥺', '🥺', '🥺', '🥺', '🥺', '🥺', '🥺', '🥺', '🥺', '🥺', '🥺', '🥺', '🥺', '🥺', '🥺', '🥺', '🥺', '🥺', '🥺', '🥺', '🥺', '🥺', '🥺', '🥺', '🥺', '🥺', '🥺', '🥺', '🥺', '🥺', '🥺', '🥺', '🥺', '🥺', '🥺', '🥺', '🥺', '🥺', '🥺', '😆', '🥹', '👍', '😍', '🫶', '🏾', '😬', '💵', '😝', '🩵', '😻', '🛠', '😍', '🎶', '🫶', '🏻', '🫂', '😌', '🙌', '🏽', '🤍', '👑', '👑', '🤍', '🙌', '🏽', '🤔', '🙏', '🏾', '😾', '🩵', '🎂', '🎂', '🤍', '🤍', '🤍', '🤍', '🤍', '😊', '🙏', '🏻', '💕', '🙌', '🏾', '🙌', '🏻', '💚', '💋', '💸', '🙏', '🏼', '🤭', '💗', '🙌', '😍', '🫶', '🏾', '😬', '💵', '😝', '🩵', '😻', '🍃', '🤭', '😎', '🙌', '🏽', '🤍', '👑', '👑', '🤍', '🙌', '🏽', '🤔', '🙏', '🏾', '😾', '💀', '🫶', '🏼', '💋', '🙁', '🫂', '🤷', '😤', '🖤', '🫂', '🏽', '🤧', '🤗', '🙏', '🙏', '🌧', '🌧', '🤣', '🤣', '💁', '🏽', '😝', '😭', '😭', '😵', '💫', '😅', '🤷', '🏽', '🫶', '🏻', '👏', '🏻', '🥰', '😟', '👍', '🏼', '🥹', '🤣', '🫵', '🏽', '🩹', '🙃', '🙃', '🙃', '🥲', '🥲', '🥹', '💀', '💀', '💀', '😞', '🤪', '🤣', '🤣', '🤣', '🤣', '🤣', '🤣', '🤣', '🤣', '🙌', '🙌', '🍀', '🍀', '🙌', '😔', '🤣', '🩷', '🤗', '🙏', '🙏', '😤', '🥹', '😂', '🚗', '🚙', '🩹', '🕐', '💪', '🏻', '🪄', '💪', '🏽', '🏆', '😴', '🥱', '😵', '💫', '😅', '🤷', '🏽', '🫶', '🏻', '👏', '🏻', '🥰', '😟', '🔟', '🔟', '💪', '🏻', '😎', '😶', '🤍', '🍒', '🚗', '🤞', '🐊', '🇨', '🇺', '🚬', '🔥', '🪨', '💧', '🍃', '💪', '🌟', '💸', '😩', '💓', '🇦', '🇹', '🇨', '🇴', '🙏', '🏼', '😭', '😭', '😭', '😭', '😭', '😭', '😭', '🥵', '🥵', '🥵', '🤷', '😒', '🙏', '🏻', '🇦', '🇷', '💁', '🙌', '🏽', '🌹', '😂', '😂', '😂', '😂', '😂', '😂', '😂', '🙏', '🤩', '🩹', '🩹', '🤞', '😝', '😂', '💜', '💜', '😞', '🙏', '👍', '🇻', '🇪', '🏳', '🌈', '🤞', '🏼', '🖤', '🔱', '💥', '👑', '🩹', '🥹', '🥰', '🤞', '🏻', '😵', '💫', '😮', '💨', '😓', '🙏', '🏻', '🫶', '🙊', '👀', '💗', '🫂', '😑', '😭', '🤔', '🤔', '🙏', '🤦', '🏻', '🏳', '🏳', '🌈', '🚬', '🚬', '😔', '💥', '🚀', '🛸', '🌌', '👽', '💥', '🔓', '🕵', '💣', '🕵', '🌩', '🔒', '🔒', '🕰', '🤍', '👼', '😳', '😳', '😳', '🧵', '👇', '🔥', '😭', '😭', '😭', '😔', '😭', '💔', '🏳', '🏳', '🌈', '😣', '😣', '😵', '💫', '🤯', '🤯', '🥱', '🥱', '🛐', '🥰', '🙌', '😭', '😔', '🤠', '🎄', '🥳', '🎁', '🚨', '😢', '🕊', '😿', '🩹', '🫶', '🏻', '🤪', '🏽', '🩹', '🥹', '🫠', '🤣', '🙊', '😍', '😍', '🤍', '😭', '🫣', '🎵', '🎶', '🎵', '🎶', '🥹', '🥹', '🤷', '🏻', '🙌', '😭', '😔', '💩', '🥹', '🩹', '😂', '💙', '😃', '🤭', '😈', '🤪', '🇦', '🇹', '🇨', '🇴', '🙏', '🏼', '🙏', '🏻', '🩹', '🥺', '😳', '😳', '😳', '🖤', '👍', '🏼', '🤨', '🤨', '😭', '🥴', '😭', '🤠', '🎄', '🥳', '🎁', '🚨', '😎', '👉', '🏻', '🤓', '🤔', '𝗮', '𝗹', '𝗴', '𝘂', '𝗶', '𝗲', '𝗻', '𝐓', '𝐈', '𝐌', '𝐄', '𝐋', '𝐄', '𝐒', '𝐒', '🙄', '😭', '🤣', '🤣', '🙄', '🙄', '😅', '😖', '😖', '🔥', '🔼', '👏', '🏼', '🦌', '🤠', '😭', '😌', '🤨', '😶', '😛', '👍', '🏻', '🤭', '👑', '💜', '🤢', '🤦', '🤍', '🌟', '🙏', '😉', '🙃', '😭', '💅', '🏼']\n",
      "1059\n"
     ]
    }
   ],
   "source": [
    "emoji = re.compile(r'[\\U00010000-\\U0010FFFF]')\n",
    "result = emoji.findall(tweets)\n",
    "print(result)\n",
    "freq_emoji = len(result)\n",
    "print(freq_emoji)"
   ]
  },
  {
   "cell_type": "code",
   "execution_count": 13,
   "metadata": {},
   "outputs": [
    {
     "data": {
      "text/plain": [
       "[('😭', 67),\n",
       " ('🥺', 54),\n",
       " ('🏻', 38),\n",
       " ('🙏', 36),\n",
       " ('🤣', 28),\n",
       " ('😂', 25),\n",
       " ('🏽', 22),\n",
       " ('🏼', 21),\n",
       " ('🥹', 18),\n",
       " ('🤍', 18)]"
      ]
     },
     "execution_count": 13,
     "metadata": {},
     "output_type": "execute_result"
    }
   ],
   "source": [
    "emojis = Counter(result)\n",
    "top_emojis = emojis.most_common(10)\n",
    "top_emojis"
   ]
  },
  {
   "cell_type": "markdown",
   "metadata": {},
   "source": [
    "## Results"
   ]
  },
  {
   "cell_type": "code",
   "execution_count": 14,
   "metadata": {},
   "outputs": [],
   "source": [
    "data ={\n",
    "    'String' : ['Hashtags', 'Users', 'URLs', 'Time', 'Emoticons', 'Emojis'],\n",
    "    'Total frequency' : [freq_hashtag, freq_user, freq_url, freq_time, freq_emoticon, freq_emoji],\n",
    "    'Top 10': [top_hashtags, top_users, urls, top_times, top_emoticons, top_emojis]\n",
    "}"
   ]
  },
  {
   "cell_type": "code",
   "execution_count": 15,
   "metadata": {},
   "outputs": [
    {
     "data": {
      "text/html": [
       "<div>\n",
       "<style scoped>\n",
       "    .dataframe tbody tr th:only-of-type {\n",
       "        vertical-align: middle;\n",
       "    }\n",
       "\n",
       "    .dataframe tbody tr th {\n",
       "        vertical-align: top;\n",
       "    }\n",
       "\n",
       "    .dataframe thead th {\n",
       "        text-align: right;\n",
       "    }\n",
       "</style>\n",
       "<table border=\"1\" class=\"dataframe\">\n",
       "  <thead>\n",
       "    <tr style=\"text-align: right;\">\n",
       "      <th></th>\n",
       "      <th>String</th>\n",
       "      <th>Total frequency</th>\n",
       "      <th>Top 10</th>\n",
       "    </tr>\n",
       "  </thead>\n",
       "  <tbody>\n",
       "    <tr>\n",
       "      <th>0</th>\n",
       "      <td>Hashtags</td>\n",
       "      <td>298</td>\n",
       "      <td>[(#UnidosTodosX, 26), (#DeZurdaTeam, 26), (#Gr...</td>\n",
       "    </tr>\n",
       "    <tr>\n",
       "      <th>1</th>\n",
       "      <td>Users</td>\n",
       "      <td>194</td>\n",
       "      <td>[(@petrogustavo, 7), (@DeZurdaTeam_, 6), (@JMi...</td>\n",
       "    </tr>\n",
       "    <tr>\n",
       "      <th>2</th>\n",
       "      <td>URLs</td>\n",
       "      <td>8</td>\n",
       "      <td>[https://elfaro.net/es/202312/columnas/27191/e...</td>\n",
       "    </tr>\n",
       "    <tr>\n",
       "      <th>3</th>\n",
       "      <td>Time</td>\n",
       "      <td>11</td>\n",
       "      <td>[(23:58, 4), (17:45, 3), (11:11, 2), (00:17, 1...</td>\n",
       "    </tr>\n",
       "    <tr>\n",
       "      <th>4</th>\n",
       "      <td>Emoticons</td>\n",
       "      <td>145</td>\n",
       "      <td>[(xp, 76), (xd, 19), (xo, 15), (:3, 8), (xs, 6...</td>\n",
       "    </tr>\n",
       "    <tr>\n",
       "      <th>5</th>\n",
       "      <td>Emojis</td>\n",
       "      <td>1059</td>\n",
       "      <td>[(😭, 67), (🥺, 54), (🏻, 38), (🙏, 36), (🤣, 28), ...</td>\n",
       "    </tr>\n",
       "  </tbody>\n",
       "</table>\n",
       "</div>"
      ],
      "text/plain": [
       "      String  Total frequency  \\\n",
       "0   Hashtags              298   \n",
       "1      Users              194   \n",
       "2       URLs                8   \n",
       "3       Time               11   \n",
       "4  Emoticons              145   \n",
       "5     Emojis             1059   \n",
       "\n",
       "                                              Top 10  \n",
       "0  [(#UnidosTodosX, 26), (#DeZurdaTeam, 26), (#Gr...  \n",
       "1  [(@petrogustavo, 7), (@DeZurdaTeam_, 6), (@JMi...  \n",
       "2  [https://elfaro.net/es/202312/columnas/27191/e...  \n",
       "3  [(23:58, 4), (17:45, 3), (11:11, 2), (00:17, 1...  \n",
       "4  [(xp, 76), (xd, 19), (xo, 15), (:3, 8), (xs, 6...  \n",
       "5  [(😭, 67), (🥺, 54), (🏻, 38), (🙏, 36), (🤣, 28), ...  "
      ]
     },
     "execution_count": 15,
     "metadata": {},
     "output_type": "execute_result"
    }
   ],
   "source": [
    "df_Result = pd.DataFrame(data)\n",
    "df_Result"
   ]
  },
  {
   "cell_type": "code",
   "execution_count": null,
   "metadata": {},
   "outputs": [],
   "source": []
  }
 ],
 "metadata": {
  "kernelspec": {
   "display_name": "Python 3",
   "language": "python",
   "name": "python3"
  },
  "language_info": {
   "codemirror_mode": {
    "name": "ipython",
    "version": 3
   },
   "file_extension": ".py",
   "mimetype": "text/x-python",
   "name": "python",
   "nbconvert_exporter": "python",
   "pygments_lexer": "ipython3",
   "version": "3.12.3"
  }
 },
 "nbformat": 4,
 "nbformat_minor": 2
}
