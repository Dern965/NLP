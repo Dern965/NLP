{
 "cells": [
  {
   "cell_type": "code",
   "execution_count": 1,
   "metadata": {},
   "outputs": [],
   "source": [
    "import pandas as pd\n",
    "import re\n",
    "from collections import Counter"
   ]
  },
  {
   "cell_type": "markdown",
   "metadata": {},
   "source": [
    "• Use regular expressions to extract the following strings in the corpus\n",
    "of tweets:\n",
    "\n",
    "• Hashtags\n",
    "\n",
    "• Users\n",
    "\n",
    "• URLs\n",
    "\n",
    "• Time (18:30, 5 hrs, 3 am, and any other valid format you can find)\n",
    "\n",
    "• Emoticons in ascii :D, :), :p, and any other you can find\n",
    "\n",
    "• Emojis (https://unicode.org/emoji/charts/full-emoji-list.html)"
   ]
  },
  {
   "cell_type": "code",
   "execution_count": 2,
   "metadata": {},
   "outputs": [],
   "source": [
    "datos = pd.read_csv('tweets.csv')\n",
    "tweets = datos[\"text\"].str.cat(sep=' ')\n"
   ]
  },
  {
   "cell_type": "markdown",
   "metadata": {},
   "source": [
    "### Hashtags"
   ]
  },
  {
   "cell_type": "code",
   "execution_count": 3,
   "metadata": {},
   "outputs": [
    {
     "name": "stdout",
     "output_type": "stream",
     "text": [
      "298\n"
     ]
    }
   ],
   "source": [
    "hashtag = re.compile(r'#\\w+')\n",
    "result = hashtag.findall(tweets)\n",
    "print(len(result))"
   ]
  },
  {
   "cell_type": "code",
   "execution_count": 12,
   "metadata": {},
   "outputs": [
    {
     "name": "stdout",
     "output_type": "stream",
     "text": [
      "Counter({'https://www.eldiario.es/1_a4fa72?utm_campaign=botonera-share&utm_medium=social&utm_source=twitter': 2, 'https://elfaro.net/es/202312/columnas/27191/el-voto-de-la-frustracion-gano-el-tour-electoral-de-2023': 1, 'https://www.youtube.com/watch?v=1QvBbg38UY8&ab_channel=ElMostrador': 1, 'https://nitter.perennialte.ch/MaxKaiser75/status/1743261455326007754/video/1': 1, 'https://signal.group/#CjQKIAL1PfYMtji-3OMw24eFifKyZSI9bNbHpdvfWONAMrnvEhAgxrDIgXSX8-35VZTa6H_n': 1, 'https://t.me/tierrasant': 1, 'https://twitter.com/MaxKaiser75/status/1743261455326007754/video/1': 1})\n"
     ]
    },
    {
     "data": {
      "text/plain": [
       "[('https://www.eldiario.es/1_a4fa72?utm_campaign=botonera-share&utm_medium=social&utm_source=twitter',\n",
       "  2),\n",
       " ('https://elfaro.net/es/202312/columnas/27191/el-voto-de-la-frustracion-gano-el-tour-electoral-de-2023',\n",
       "  1),\n",
       " ('https://www.youtube.com/watch?v=1QvBbg38UY8&ab_channel=ElMostrador', 1),\n",
       " ('https://nitter.perennialte.ch/MaxKaiser75/status/1743261455326007754/video/1',\n",
       "  1),\n",
       " ('https://signal.group/#CjQKIAL1PfYMtji-3OMw24eFifKyZSI9bNbHpdvfWONAMrnvEhAgxrDIgXSX8-35VZTa6H_n',\n",
       "  1),\n",
       " ('https://t.me/tierrasant', 1),\n",
       " ('https://twitter.com/MaxKaiser75/status/1743261455326007754/video/1', 1)]"
      ]
     },
     "execution_count": 12,
     "metadata": {},
     "output_type": "execute_result"
    }
   ],
   "source": [
    "hashtags = Counter(result)\n",
    "top_hashtags = hashtags.most_common(10)\n",
    "top_hashtags"
   ]
  },
  {
   "cell_type": "markdown",
   "metadata": {},
   "source": [
    "### Users"
   ]
  },
  {
   "cell_type": "code",
   "execution_count": 6,
   "metadata": {},
   "outputs": [
    {
     "name": "stdout",
     "output_type": "stream",
     "text": [
      "194\n"
     ]
    }
   ],
   "source": [
    "user = re.compile(r'@\\w+')\n",
    "result = user.findall(tweets)\n",
    "print(len(result))"
   ]
  },
  {
   "cell_type": "code",
   "execution_count": 7,
   "metadata": {},
   "outputs": [
    {
     "data": {
      "text/plain": [
       "[('@petrogustavo', 7),\n",
       " ('@DeZurdaTeam_', 6),\n",
       " ('@JMilei', 4),\n",
       " ('@biobio', 3),\n",
       " ('@radiocarab', 3),\n",
       " ('@TTISantiago', 3),\n",
       " ('@mop_chile', 3),\n",
       " ('@mop_rm', 3),\n",
       " ('@MabelLaraNews', 2),\n",
       " ('@_somosmadrid', 2)]"
      ]
     },
     "execution_count": 7,
     "metadata": {},
     "output_type": "execute_result"
    }
   ],
   "source": [
    "users = Counter(result)\n",
    "top_users = users.most_common(10)\n",
    "top_users"
   ]
  },
  {
   "cell_type": "markdown",
   "metadata": {},
   "source": [
    "### URL's"
   ]
  },
  {
   "cell_type": "code",
   "execution_count": 8,
   "metadata": {},
   "outputs": [
    {
     "name": "stdout",
     "output_type": "stream",
     "text": [
      "8\n"
     ]
    },
    {
     "data": {
      "text/plain": [
       "['https://elfaro.net/es/202312/columnas/27191/el-voto-de-la-frustracion-gano-el-tour-electoral-de-2023',\n",
       " 'https://www.eldiario.es/1_a4fa72?utm_campaign=botonera-share&utm_medium=social&utm_source=twitter',\n",
       " 'https://www.eldiario.es/1_a4fa72?utm_campaign=botonera-share&utm_medium=social&utm_source=twitter',\n",
       " 'https://www.youtube.com/watch?v=1QvBbg38UY8&ab_channel=ElMostrador',\n",
       " 'https://nitter.perennialte.ch/MaxKaiser75/status/1743261455326007754/video/1',\n",
       " 'https://signal.group/#CjQKIAL1PfYMtji-3OMw24eFifKyZSI9bNbHpdvfWONAMrnvEhAgxrDIgXSX8-35VZTa6H_n',\n",
       " 'https://t.me/tierrasant',\n",
       " 'https://twitter.com/MaxKaiser75/status/1743261455326007754/video/1']"
      ]
     },
     "execution_count": 8,
     "metadata": {},
     "output_type": "execute_result"
    }
   ],
   "source": [
    "url = re.compile(r'http[s]?://[^\\s]+')\n",
    "result = url.findall(tweets)\n",
    "print(len(result))\n",
    "urls=result\n",
    "urls"
   ]
  },
  {
   "cell_type": "markdown",
   "metadata": {},
   "source": [
    "### Time"
   ]
  },
  {
   "cell_type": "code",
   "execution_count": 6,
   "metadata": {},
   "outputs": [
    {
     "name": "stdout",
     "output_type": "stream",
     "text": [
      "['23:58', '23:58', '23:58', '23:58', '17:45', '17:45', '00:17', '11:11', '11:11', '17:45', '00:01']\n",
      "11\n"
     ]
    }
   ],
   "source": [
    "time = re.compile(r'(?<!Salmo\\s)(?:[01][0-9]|2[0-3]):[0-5][0-9]')\n",
    "result = time.findall(tweets)\n",
    "print(result)\n",
    "print(len(result))"
   ]
  },
  {
   "cell_type": "markdown",
   "metadata": {},
   "source": [
    "### Emojis"
   ]
  },
  {
   "cell_type": "code",
   "execution_count": 13,
   "metadata": {},
   "outputs": [
    {
     "name": "stdout",
     "output_type": "stream",
     "text": [
      "['😒', '🏽', '🐷', '🐽', '🔥', '🐶', '🙏', '🙏', '🙏', '😤', '😤', '🏽', '💚', '😭', '💔', '😭', '😭', '😭', '😭', '😭', '😭', '😔', '😨', '😎', '😪', '👍', '😜', '😔', '😫', '🕯', '🕯', '🕯', '🕯', '💕', '💕', '🏻', '🚬', '🚬', '😲', '🚬', '🚬', '👍', '😒', '🙂', '😵', '💫', '😏', '🌍', '😭', '😭', '😒', '😘', '😏', '😞', '😥', '👏', '🙄', '😒', '💥', '😐', '🚬', '👊', '🏽', '👏', '😣', '💘', '🌊', '🙃', '😅', '😷', '😊', '💋', '😂', '😂', '😂', '😩', '🙏', '🏽', '🏽', '💋', '😂', '😂', '😂', '😭', '👣', '😪', '😂', '💖', '😂', '👀', '🏻', '😫', '😓', '💀', '💀', '😭', '👌', '👍', '🏽', '😩', '😩', '😴', '😴', '💔', '🙃', '😅', '😩', '😔', '😒', '💋', '😂', '😂', '😂', '🏃', '🏽', '😮', '💨', '💀', '👍', '🏻', '😭', '😭', '😭', '😆', '😂', '🙄', '😭', '😭', '😭', '😭', '😾', '😾', '😾', '😂', '🖤', '👀', '🎶', '🎶', '🙏', '🏻', '🏼', '🙏', '🏻', '💔', '🏼', '👁', '👌', '😈', '😈', '😈', '👏', '🏼', '😕', '💛', '💔', '😔', '😶', '😛', '👍', '🏻', '🙌', '🏻', '🎀', '🚬', '🚬', '🍳', '🌚', '🏻', '😹', '😞', '😵', '💫', '😭', '😭', '😭', '😥', '😥', '😢', '😏', '🏻', '🏻', '😭', '😕', '👌', '😈', '😈', '😈', '👏', '🏼', '👌', '😈', '😈', '😈', '👏', '🏼', '🚩', '🚩', '😔', '🔋', '💡', '💛', '💔', '🕯', '🕯', '🕯', '🙏', '🏽', '👍', '🏻', '👌', '😈', '😈', '😈', '👏', '🏼', '😭', '😭', '😭', '😫', '😭', '😭', '😭', '🌧', '🌧', '🏼', '😭', '😭', '🛸', '😬', '🎵', '😇', '😴', '😭', '😭', '😭', '😭', '😭', '😩', '😩', '💔', '💔', '👏', '🙄', '🙄', '😭', '😭', '😭', '😭', '😭', '😍', '😍', '😍', '🏻', '😍', '😍', '💕', '💔', '😔', '😢', '🙏', '🏻', '🙏', '🏻', '🙏', '🏻', '🏿', '👑', '🏼', '💊', '😭', '😭', '📈', '💼', '💡', '🚀', '💪', '🚀', '😂', '💘', '🛠', '😪', '🔥', '🔥', '🔥', '🔥', '🏽', '🙃', '🙃', '🙃', '😂', '🙏', '🏻', '🌧', '🌧', '🐯', '🔥', '🔥', '📲', '🗨', '😭', '😭', '👏', '😹', '😭', '😌', '🏔', '🏖', '💆', '🏼', '🙏', '🏻', '😕', '🍾', '🙄', '😒', '🛐', '🔴', '🙂', '🙃', '😡', '😞', '🚌', '🌊', '🐋', '💫', '💕', '🏻', '💙', '🙏', '🏼', '🙏', '🏼', '😍', '😍', '🎸', '💭', '😮', '💨', '😋', '🙏', '🙏', '🕊', '🙏', '🏼', '💙', '🙌', '🙌', '🌈', '🍂', '😩', '🌺', '🙏', '🏽', '😮', '💨', '😍', '😍', '😍', '🏻', '😍', '😍', '🙏', '🏻', '😆', '👍', '😍', '🏾', '😬', '💵', '😝', '😻', '🛠', '😍', '🎶', '🏻', '😌', '🙌', '🏽', '👑', '👑', '🙌', '🏽', '🙏', '🏾', '😾', '🎂', '🎂', '😊', '🙏', '🏻', '💕', '🙌', '🏾', '🙌', '🏻', '💚', '💋', '💸', '🙏', '🏼', '💗', '🙌', '😍', '🏾', '😬', '💵', '😝', '😻', '🍃', '😎', '🙌', '🏽', '👑', '👑', '🙌', '🏽', '🙏', '🏾', '😾', '💀', '🏼', '💋', '🙁', '😤', '🖤', '🏽', '🙏', '🙏', '🌧', '🌧', '💁', '🏽', '😝', '😭', '😭', '😵', '💫', '😅', '🏽', '🏻', '👏', '🏻', '😟', '👍', '🏼', '🏽', '🙃', '🙃', '🙃', '💀', '💀', '💀', '😞', '🙌', '🙌', '🍀', '🍀', '🙌', '😔', '🙏', '🙏', '😤', '😂', '🚗', '🚙', '🕐', '💪', '🏻', '💪', '🏽', '🏆', '😴', '😵', '💫', '😅', '🏽', '🏻', '👏', '🏻', '😟', '🔟', '🔟', '💪', '🏻', '😎', '😶', '🍒', '🚗', '🐊', '🚬', '🔥', '💧', '🍃', '💪', '🌟', '💸', '😩', '💓', '🙏', '🏼', '😭', '😭', '😭', '😭', '😭', '😭', '😭', '😒', '🙏', '🏻', '💁', '🙌', '🏽', '🌹', '😂', '😂', '😂', '😂', '😂', '😂', '😂', '🙏', '😝', '😂', '💜', '💜', '😞', '🙏', '👍', '🏳', '🌈', '🏼', '🖤', '🔱', '💥', '👑', '🏻', '😵', '💫', '😮', '💨', '😓', '🙏', '🏻', '🙊', '👀', '💗', '😑', '😭', '🙏', '🏻', '🏳', '🏳', '🌈', '🚬', '🚬', '😔', '💥', '🚀', '🛸', '🌌', '👽', '💥', '🔓', '🕵', '💣', '🕵', '🌩', '🔒', '🔒', '🕰', '👼', '😳', '😳', '😳', '👇', '🔥', '😭', '😭', '😭', '😔', '😭', '💔', '🏳', '🏳', '🌈', '😣', '😣', '😵', '💫', '🛐', '🙌', '😭', '😔', '🎄', '🎁', '🚨', '😢', '🕊', '😿', '🏻', '🏽', '🙊', '😍', '😍', '😭', '🎵', '🎶', '🎵', '🎶', '🏻', '🙌', '😭', '😔', '💩', '😂', '💙', '😃', '😈', '🙏', '🏼', '🙏', '🏻', '😳', '😳', '😳', '🖤', '👍', '🏼', '😭', '😭', '🎄', '🎁', '🚨', '😎', '👉', '🏻', '🙄', '😭', '🙄', '🙄', '😅', '😖', '😖', '🔥', '🔼', '👏', '🏼', '😭', '😌', '😶', '😛', '👍', '🏻', '👑', '💜', '🌟', '🙏', '😉', '🙃', '😭', '💅', '🏼']\n",
      "663\n"
     ]
    }
   ],
   "source": [
    "emoji = re.compile(r'[\\U0001F600-\\U0001F64F\\U0001F300-\\U0001F5FF\\U0001F680-\\U0001F6FF\\U0001F700-\\U0001F77F\\U0001F780-\\U0001F7FF]')\n",
    "result = emoji.findall(tweets)\n",
    "print(result)\n",
    "print(len(result))"
   ]
  },
  {
   "cell_type": "code",
   "execution_count": 14,
   "metadata": {},
   "outputs": [
    {
     "data": {
      "text/plain": [
       "[('😭', 67),\n",
       " ('🏻', 38),\n",
       " ('🙏', 36),\n",
       " ('😂', 25),\n",
       " ('🏽', 22),\n",
       " ('🏼', 21),\n",
       " ('😍', 17),\n",
       " ('🙌', 16),\n",
       " ('😈', 13),\n",
       " ('😔', 11)]"
      ]
     },
     "execution_count": 14,
     "metadata": {},
     "output_type": "execute_result"
    }
   ],
   "source": [
    "emojis = Counter(result)\n",
    "top_emojis = emojis.most_common(10)\n",
    "top_emojis"
   ]
  },
  {
   "cell_type": "markdown",
   "metadata": {},
   "source": [
    "## Results"
   ]
  },
  {
   "cell_type": "code",
   "execution_count": 15,
   "metadata": {},
   "outputs": [],
   "source": [
    "data ={\n",
    "    'String' : ['Hashtags', 'Users', 'URLs', 'Time', 'Emoticons', 'Emojis'],\n",
    "    'Total frequency' : [len(hashtags), len(users), len(urls), len(result), 0, len(emojis)],\n",
    "    'Top 10': [top_hashtags, top_users, urls, result, 0, top_emojis]\n",
    "}"
   ]
  },
  {
   "cell_type": "code",
   "execution_count": 17,
   "metadata": {},
   "outputs": [
    {
     "data": {
      "text/html": [
       "<div>\n",
       "<style scoped>\n",
       "    .dataframe tbody tr th:only-of-type {\n",
       "        vertical-align: middle;\n",
       "    }\n",
       "\n",
       "    .dataframe tbody tr th {\n",
       "        vertical-align: top;\n",
       "    }\n",
       "\n",
       "    .dataframe thead th {\n",
       "        text-align: right;\n",
       "    }\n",
       "</style>\n",
       "<table border=\"1\" class=\"dataframe\">\n",
       "  <thead>\n",
       "    <tr style=\"text-align: right;\">\n",
       "      <th></th>\n",
       "      <th>String</th>\n",
       "      <th>Total frequency</th>\n",
       "      <th>Top 10</th>\n",
       "    </tr>\n",
       "  </thead>\n",
       "  <tbody>\n",
       "    <tr>\n",
       "      <th>0</th>\n",
       "      <td>Hashtags</td>\n",
       "      <td>7</td>\n",
       "      <td>[(https://www.eldiario.es/1_a4fa72?utm_campaig...</td>\n",
       "    </tr>\n",
       "    <tr>\n",
       "      <th>1</th>\n",
       "      <td>Users</td>\n",
       "      <td>142</td>\n",
       "      <td>[(@petrogustavo, 7), (@DeZurdaTeam_, 6), (@JMi...</td>\n",
       "    </tr>\n",
       "    <tr>\n",
       "      <th>2</th>\n",
       "      <td>URLs</td>\n",
       "      <td>8</td>\n",
       "      <td>[https://elfaro.net/es/202312/columnas/27191/e...</td>\n",
       "    </tr>\n",
       "    <tr>\n",
       "      <th>3</th>\n",
       "      <td>Time</td>\n",
       "      <td>663</td>\n",
       "      <td>[😒, 🏽, 🐷, 🐽, 🔥, 🐶, 🙏, 🙏, 🙏, 😤, 😤, 🏽, 💚, 😭, 💔, ...</td>\n",
       "    </tr>\n",
       "    <tr>\n",
       "      <th>4</th>\n",
       "      <td>Emoticons</td>\n",
       "      <td>0</td>\n",
       "      <td>0</td>\n",
       "    </tr>\n",
       "    <tr>\n",
       "      <th>5</th>\n",
       "      <td>Emojis</td>\n",
       "      <td>161</td>\n",
       "      <td>[(😭, 67), (🏻, 38), (🙏, 36), (😂, 25), (🏽, 22), ...</td>\n",
       "    </tr>\n",
       "  </tbody>\n",
       "</table>\n",
       "</div>"
      ],
      "text/plain": [
       "      String  Total frequency  \\\n",
       "0   Hashtags                7   \n",
       "1      Users              142   \n",
       "2       URLs                8   \n",
       "3       Time              663   \n",
       "4  Emoticons                0   \n",
       "5     Emojis              161   \n",
       "\n",
       "                                              Top 10  \n",
       "0  [(https://www.eldiario.es/1_a4fa72?utm_campaig...  \n",
       "1  [(@petrogustavo, 7), (@DeZurdaTeam_, 6), (@JMi...  \n",
       "2  [https://elfaro.net/es/202312/columnas/27191/e...  \n",
       "3  [😒, 🏽, 🐷, 🐽, 🔥, 🐶, 🙏, 🙏, 🙏, 😤, 😤, 🏽, 💚, 😭, 💔, ...  \n",
       "4                                                  0  \n",
       "5  [(😭, 67), (🏻, 38), (🙏, 36), (😂, 25), (🏽, 22), ...  "
      ]
     },
     "execution_count": 17,
     "metadata": {},
     "output_type": "execute_result"
    }
   ],
   "source": [
    "df_Result = pd.DataFrame(data)\n",
    "df_Result"
   ]
  },
  {
   "cell_type": "code",
   "execution_count": null,
   "metadata": {},
   "outputs": [],
   "source": []
  }
 ],
 "metadata": {
  "kernelspec": {
   "display_name": "Python 3",
   "language": "python",
   "name": "python3"
  },
  "language_info": {
   "codemirror_mode": {
    "name": "ipython",
    "version": 3
   },
   "file_extension": ".py",
   "mimetype": "text/x-python",
   "name": "python",
   "nbconvert_exporter": "python",
   "pygments_lexer": "ipython3",
   "version": "3.12.1"
  }
 },
 "nbformat": 4,
 "nbformat_minor": 2
}
